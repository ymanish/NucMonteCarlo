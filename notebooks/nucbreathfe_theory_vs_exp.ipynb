{
 "cells": [
  {
   "cell_type": "code",
   "execution_count": 1,
   "metadata": {},
   "outputs": [],
   "source": [
    "\n",
    "%load_ext autoreload\n",
    "%autoreload 2"
   ]
  },
  {
   "cell_type": "code",
   "execution_count": 2,
   "metadata": {},
   "outputs": [],
   "source": [
    "seq_dict = {\"601\":\"CTGGAGAATCCCGGTGCCGAGGCCGCTCAATTGGTCGTAGACAGCTCTAGCACCGCTTAAACGCACGTACGCGCTGTCCCCCGCGTTTTAACCGCCAAGGGGATTACTCCCTAGTCTCCAGGCACGTGTCAGATATATACATCCTGT\", \n",
    "            \"601RTA\":\"CTGGAGAATCCCGGTGCCGAGGCCGCTCAATTGGTCGTAGACAGCTCTAGCACCGCTTAAACGCACGTACGCGCTGTCTACCGCGTTTTAACCGCCAATAGGATTACTTACTAGTCTCCAGGCACGTGTCAGATATATACATCCTGT\", \n",
    "            \"601MF\": \"CTGGAGAATCCCGGTGCCGAGGCCGCTCAATTGGTCGGGAGTAATCCCCTTGGCGGTTAAAACGCGGGGGACACCGCGTACGTGCGTTTAAGCGGTGCTAGAGCTGTCTACTAGTCTCCAGGCACGTGTCAGATATATACATCCTGT\",\n",
    "            \"601L\": \"CTGGAGAATCCCGGTGCCGAGGCCGCTCAATTGGTCGTAGACAGCTCTAGCACCGCTTAAACGCACGTACGCGCCGCGTACGTGCGTTTAAGCGGTGCTAGAGCTGTCTACGACCAATTGAGCGGCCTCGGCACCGGGATTCTCCAG\",\n",
    "            \"5S\": \"CTTCCAGGGATTTATAAGCCGATGACGTCATAACATCCCTGACCCTTTAAATAGCTTAACTTTCATCAAGCAAGAGCCTACGACCATACCATGCTGAATATACCGGTTCTCGTCCGATCACCGAAGTCAAGCAGCATAGGGCTCGGT\"  }\n",
    "\n",
    "nucmethod = \"hybrid\""
   ]
  },
  {
   "cell_type": "code",
   "execution_count": 3,
   "metadata": {},
   "outputs": [],
   "source": [
    "import os \n",
    "import sys\n",
    "from py_analysis.modules.NucFreeEnergy import NucleosomeBreath\n",
    "from py_analysis.config.custom_types import FreeEnergyResult, NuclBreathingResult\n",
    "from typing import List\n",
    "import concurrent.futures\n",
    "from tqdm import tqdm\n",
    "import pandas as pd\n",
    "\n"
   ]
  },
  {
   "cell_type": "code",
   "execution_count": 4,
   "metadata": {},
   "outputs": [
    {
     "name": "stdout",
     "output_type": "stream",
     "text": [
      "Total states: 120\n"
     ]
    }
   ],
   "source": [
    "states = []\n",
    "for left in range(15):  # Left binding site: 0 to 13\n",
    "    for right in range(left, 15):  # Right must be ≥ left\n",
    "        states.append((left, right))\n",
    "\n",
    "print(f\"Total states: {len(states)}\")"
   ]
  },
  {
   "cell_type": "code",
   "execution_count": 5,
   "metadata": {},
   "outputs": [
    {
     "data": {
      "text/plain": [
       "[(0, 0),\n",
       " (0, 1),\n",
       " (0, 2),\n",
       " (0, 3),\n",
       " (0, 4),\n",
       " (0, 5),\n",
       " (0, 6),\n",
       " (0, 7),\n",
       " (0, 8),\n",
       " (0, 9),\n",
       " (0, 10),\n",
       " (0, 11),\n",
       " (0, 12),\n",
       " (0, 13),\n",
       " (0, 14),\n",
       " (1, 1),\n",
       " (1, 2),\n",
       " (1, 3),\n",
       " (1, 4),\n",
       " (1, 5),\n",
       " (1, 6),\n",
       " (1, 7),\n",
       " (1, 8),\n",
       " (1, 9),\n",
       " (1, 10),\n",
       " (1, 11),\n",
       " (1, 12),\n",
       " (1, 13),\n",
       " (1, 14),\n",
       " (2, 2),\n",
       " (2, 3),\n",
       " (2, 4),\n",
       " (2, 5),\n",
       " (2, 6),\n",
       " (2, 7),\n",
       " (2, 8),\n",
       " (2, 9),\n",
       " (2, 10),\n",
       " (2, 11),\n",
       " (2, 12),\n",
       " (2, 13),\n",
       " (2, 14),\n",
       " (3, 3),\n",
       " (3, 4),\n",
       " (3, 5),\n",
       " (3, 6),\n",
       " (3, 7),\n",
       " (3, 8),\n",
       " (3, 9),\n",
       " (3, 10),\n",
       " (3, 11),\n",
       " (3, 12),\n",
       " (3, 13),\n",
       " (3, 14),\n",
       " (4, 4),\n",
       " (4, 5),\n",
       " (4, 6),\n",
       " (4, 7),\n",
       " (4, 8),\n",
       " (4, 9),\n",
       " (4, 10),\n",
       " (4, 11),\n",
       " (4, 12),\n",
       " (4, 13),\n",
       " (4, 14),\n",
       " (5, 5),\n",
       " (5, 6),\n",
       " (5, 7),\n",
       " (5, 8),\n",
       " (5, 9),\n",
       " (5, 10),\n",
       " (5, 11),\n",
       " (5, 12),\n",
       " (5, 13),\n",
       " (5, 14),\n",
       " (6, 6),\n",
       " (6, 7),\n",
       " (6, 8),\n",
       " (6, 9),\n",
       " (6, 10),\n",
       " (6, 11),\n",
       " (6, 12),\n",
       " (6, 13),\n",
       " (6, 14),\n",
       " (7, 7),\n",
       " (7, 8),\n",
       " (7, 9),\n",
       " (7, 10),\n",
       " (7, 11),\n",
       " (7, 12),\n",
       " (7, 13),\n",
       " (7, 14),\n",
       " (8, 8),\n",
       " (8, 9),\n",
       " (8, 10),\n",
       " (8, 11),\n",
       " (8, 12),\n",
       " (8, 13),\n",
       " (8, 14),\n",
       " (9, 9),\n",
       " (9, 10),\n",
       " (9, 11),\n",
       " (9, 12),\n",
       " (9, 13),\n",
       " (9, 14),\n",
       " (10, 10),\n",
       " (10, 11),\n",
       " (10, 12),\n",
       " (10, 13),\n",
       " (10, 14),\n",
       " (11, 11),\n",
       " (11, 12),\n",
       " (11, 13),\n",
       " (11, 14),\n",
       " (12, 12),\n",
       " (12, 13),\n",
       " (12, 14),\n",
       " (13, 13),\n",
       " (13, 14),\n",
       " (14, 14)]"
      ]
     },
     "execution_count": 5,
     "metadata": {},
     "output_type": "execute_result"
    }
   ],
   "source": [
    "states"
   ]
  },
  {
   "cell_type": "code",
   "execution_count": 6,
   "metadata": {},
   "outputs": [
    {
     "name": "stderr",
     "output_type": "stream",
     "text": [
      "Processing sequences:   0%|          | 0/5 [00:00<?, ?it/s]"
     ]
    },
    {
     "name": "stdout",
     "output_type": "stream",
     "text": [
      "Using nucleosome method: hybridUsing nucleosome method: hybridUsing nucleosome method: hybridUsing nucleosome method: hybridUsing nucleosome method: hybrid\n",
      "\n",
      "\n",
      "\n",
      "\n",
      "Using hang DNA method: mdUsing hang DNA method: mdUsing hang DNA method: mdUsing hang DNA method: md\n",
      "Using hang DNA method: md\n",
      "\n",
      "\n",
      "Using hang stiffness: FalseUsing hang stiffness: False\n",
      "Using hang stiffness: False\n",
      "Using hang stiffness: False\n",
      "Using hang stiffness: False\n",
      "\n",
      "\n"
     ]
    },
    {
     "name": "stderr",
     "output_type": "stream",
     "text": [
      "Processing sequences: 100%|██████████| 5/5 [01:36<00:00, 19.28s/it]\n"
     ]
    }
   ],
   "source": [
    "# states\n",
    "\n",
    "def energy_per_sequence(key, seq, nucmethod:str, bind_sates:List[tuple], hard:bool=False)->  List[NuclBreathingResult]:\n",
    "    nucleosomebreath = NucleosomeBreath(nuc_method=nucmethod)\n",
    "    results:List[NuclBreathingResult] = []\n",
    "\n",
    "    for bind_loc in bind_sates:\n",
    "\n",
    "        if hard:\n",
    "            free_energy = nucleosomebreath.calculate_free_energy_hard(seq147=seq,\n",
    "                                                                    left=bind_loc[0], right=bind_loc[1], id=key)\n",
    "\n",
    "        else:\n",
    "            free_energy = nucleosomebreath.calculate_free_energy_soft(seq601=seq, \n",
    "                                                                  left=bind_loc[0], right=bind_loc[1], id=key)\n",
    "            \n",
    "        res_nucbreath = NuclBreathingResult(\n",
    "            id=key,\n",
    "            subid=None,\n",
    "            sequence=seq,\n",
    "            leftbind_indx=bind_loc[0],\n",
    "            rightbind_indx=bind_loc[1],\n",
    "            F_vals=free_energy\n",
    "        )\n",
    "        results.append(res_nucbreath)\n",
    "\n",
    "    return results\n",
    "\n",
    "results_all:List[NuclBreathingResult] = []\n",
    "with concurrent.futures.ProcessPoolExecutor(max_workers=5) as executor:\n",
    "\n",
    "\n",
    "    futures = [executor.submit(energy_per_sequence, s, seq_dict[s], 'hybrid', states, hard=False) for s in seq_dict.keys()]\n",
    "    total = len(futures)\n",
    "\n",
    "    for future in tqdm(concurrent.futures.as_completed(futures), total=total, desc=\"Processing sequences\"):\n",
    "        energy_array = future.result()\n",
    "        results_all.extend(energy_array)"
   ]
  },
  {
   "cell_type": "code",
   "execution_count": 7,
   "metadata": {},
   "outputs": [],
   "source": [
    "\n",
    "df_results = pd.DataFrame([result._asdict() for result in results_all])\n",
    "df_free_energy = df_results['F_vals'].apply(lambda x: x._asdict() if hasattr(x, '_asdict') else x).apply(pd.Series)\n",
    "df_free_energy = df_free_energy[['F', 'F_entropy', 'F_enthalpy', 'F_freedna']]\n",
    "df_full = pd.concat([df_results.drop(columns=['F_vals']), df_free_energy], axis=1)\n"
   ]
  },
  {
   "cell_type": "code",
   "execution_count": 8,
   "metadata": {},
   "outputs": [
    {
     "data": {
      "text/html": [
       "<div>\n",
       "<style scoped>\n",
       "    .dataframe tbody tr th:only-of-type {\n",
       "        vertical-align: middle;\n",
       "    }\n",
       "\n",
       "    .dataframe tbody tr th {\n",
       "        vertical-align: top;\n",
       "    }\n",
       "\n",
       "    .dataframe thead th {\n",
       "        text-align: right;\n",
       "    }\n",
       "</style>\n",
       "<table border=\"1\" class=\"dataframe\">\n",
       "  <thead>\n",
       "    <tr style=\"text-align: right;\">\n",
       "      <th></th>\n",
       "      <th>id</th>\n",
       "      <th>subid</th>\n",
       "      <th>sequence</th>\n",
       "      <th>leftbind_indx</th>\n",
       "      <th>rightbind_indx</th>\n",
       "      <th>Adsorp_F</th>\n",
       "      <th>F</th>\n",
       "      <th>F_entropy</th>\n",
       "      <th>F_enthalpy</th>\n",
       "      <th>F_freedna</th>\n",
       "    </tr>\n",
       "  </thead>\n",
       "  <tbody>\n",
       "    <tr>\n",
       "      <th>0</th>\n",
       "      <td>601</td>\n",
       "      <td>None</td>\n",
       "      <td>CTGGAGAATCCCGGTGCCGAGGCCGCTCAATTGGTCGTAGACAGCT...</td>\n",
       "      <td>0</td>\n",
       "      <td>0</td>\n",
       "      <td>0.0</td>\n",
       "      <td>1665.995831</td>\n",
       "      <td>1665.613760</td>\n",
       "      <td>0.382071</td>\n",
       "      <td>1650.286369</td>\n",
       "    </tr>\n",
       "    <tr>\n",
       "      <th>1</th>\n",
       "      <td>601</td>\n",
       "      <td>None</td>\n",
       "      <td>CTGGAGAATCCCGGTGCCGAGGCCGCTCAATTGGTCGTAGACAGCT...</td>\n",
       "      <td>0</td>\n",
       "      <td>1</td>\n",
       "      <td>0.0</td>\n",
       "      <td>1677.816020</td>\n",
       "      <td>1675.122383</td>\n",
       "      <td>2.693637</td>\n",
       "      <td>1650.286369</td>\n",
       "    </tr>\n",
       "    <tr>\n",
       "      <th>2</th>\n",
       "      <td>601</td>\n",
       "      <td>None</td>\n",
       "      <td>CTGGAGAATCCCGGTGCCGAGGCCGCTCAATTGGTCGTAGACAGCT...</td>\n",
       "      <td>0</td>\n",
       "      <td>2</td>\n",
       "      <td>0.0</td>\n",
       "      <td>1697.008048</td>\n",
       "      <td>1688.932436</td>\n",
       "      <td>8.075612</td>\n",
       "      <td>1650.286369</td>\n",
       "    </tr>\n",
       "    <tr>\n",
       "      <th>3</th>\n",
       "      <td>601</td>\n",
       "      <td>None</td>\n",
       "      <td>CTGGAGAATCCCGGTGCCGAGGCCGCTCAATTGGTCGTAGACAGCT...</td>\n",
       "      <td>0</td>\n",
       "      <td>3</td>\n",
       "      <td>0.0</td>\n",
       "      <td>1711.700379</td>\n",
       "      <td>1698.051289</td>\n",
       "      <td>13.649090</td>\n",
       "      <td>1650.286369</td>\n",
       "    </tr>\n",
       "    <tr>\n",
       "      <th>4</th>\n",
       "      <td>601</td>\n",
       "      <td>None</td>\n",
       "      <td>CTGGAGAATCCCGGTGCCGAGGCCGCTCAATTGGTCGTAGACAGCT...</td>\n",
       "      <td>0</td>\n",
       "      <td>4</td>\n",
       "      <td>0.0</td>\n",
       "      <td>1728.474859</td>\n",
       "      <td>1711.772678</td>\n",
       "      <td>16.702181</td>\n",
       "      <td>1650.286369</td>\n",
       "    </tr>\n",
       "    <tr>\n",
       "      <th>...</th>\n",
       "      <td>...</td>\n",
       "      <td>...</td>\n",
       "      <td>...</td>\n",
       "      <td>...</td>\n",
       "      <td>...</td>\n",
       "      <td>...</td>\n",
       "      <td>...</td>\n",
       "      <td>...</td>\n",
       "      <td>...</td>\n",
       "      <td>...</td>\n",
       "    </tr>\n",
       "    <tr>\n",
       "      <th>595</th>\n",
       "      <td>5S</td>\n",
       "      <td>None</td>\n",
       "      <td>CTTCCAGGGATTTATAAGCCGATGACGTCATAACATCCCTGACCCT...</td>\n",
       "      <td>12</td>\n",
       "      <td>13</td>\n",
       "      <td>0.0</td>\n",
       "      <td>1681.466823</td>\n",
       "      <td>1678.240678</td>\n",
       "      <td>3.226145</td>\n",
       "      <td>1653.292329</td>\n",
       "    </tr>\n",
       "    <tr>\n",
       "      <th>596</th>\n",
       "      <td>5S</td>\n",
       "      <td>None</td>\n",
       "      <td>CTTCCAGGGATTTATAAGCCGATGACGTCATAACATCCCTGACCCT...</td>\n",
       "      <td>12</td>\n",
       "      <td>14</td>\n",
       "      <td>0.0</td>\n",
       "      <td>1681.466823</td>\n",
       "      <td>1678.240678</td>\n",
       "      <td>3.226145</td>\n",
       "      <td>1653.292329</td>\n",
       "    </tr>\n",
       "    <tr>\n",
       "      <th>597</th>\n",
       "      <td>5S</td>\n",
       "      <td>None</td>\n",
       "      <td>CTTCCAGGGATTTATAAGCCGATGACGTCATAACATCCCTGACCCT...</td>\n",
       "      <td>13</td>\n",
       "      <td>13</td>\n",
       "      <td>0.0</td>\n",
       "      <td>1669.249420</td>\n",
       "      <td>1668.764734</td>\n",
       "      <td>0.484686</td>\n",
       "      <td>1653.292329</td>\n",
       "    </tr>\n",
       "    <tr>\n",
       "      <th>598</th>\n",
       "      <td>5S</td>\n",
       "      <td>None</td>\n",
       "      <td>CTTCCAGGGATTTATAAGCCGATGACGTCATAACATCCCTGACCCT...</td>\n",
       "      <td>13</td>\n",
       "      <td>14</td>\n",
       "      <td>0.0</td>\n",
       "      <td>1669.249420</td>\n",
       "      <td>1668.764734</td>\n",
       "      <td>0.484686</td>\n",
       "      <td>1653.292329</td>\n",
       "    </tr>\n",
       "    <tr>\n",
       "      <th>599</th>\n",
       "      <td>5S</td>\n",
       "      <td>None</td>\n",
       "      <td>CTTCCAGGGATTTATAAGCCGATGACGTCATAACATCCCTGACCCT...</td>\n",
       "      <td>14</td>\n",
       "      <td>14</td>\n",
       "      <td>0.0</td>\n",
       "      <td>1653.292329</td>\n",
       "      <td>1653.292329</td>\n",
       "      <td>0.000000</td>\n",
       "      <td>1653.292329</td>\n",
       "    </tr>\n",
       "  </tbody>\n",
       "</table>\n",
       "<p>600 rows × 10 columns</p>\n",
       "</div>"
      ],
      "text/plain": [
       "      id subid                                           sequence  \\\n",
       "0    601  None  CTGGAGAATCCCGGTGCCGAGGCCGCTCAATTGGTCGTAGACAGCT...   \n",
       "1    601  None  CTGGAGAATCCCGGTGCCGAGGCCGCTCAATTGGTCGTAGACAGCT...   \n",
       "2    601  None  CTGGAGAATCCCGGTGCCGAGGCCGCTCAATTGGTCGTAGACAGCT...   \n",
       "3    601  None  CTGGAGAATCCCGGTGCCGAGGCCGCTCAATTGGTCGTAGACAGCT...   \n",
       "4    601  None  CTGGAGAATCCCGGTGCCGAGGCCGCTCAATTGGTCGTAGACAGCT...   \n",
       "..   ...   ...                                                ...   \n",
       "595   5S  None  CTTCCAGGGATTTATAAGCCGATGACGTCATAACATCCCTGACCCT...   \n",
       "596   5S  None  CTTCCAGGGATTTATAAGCCGATGACGTCATAACATCCCTGACCCT...   \n",
       "597   5S  None  CTTCCAGGGATTTATAAGCCGATGACGTCATAACATCCCTGACCCT...   \n",
       "598   5S  None  CTTCCAGGGATTTATAAGCCGATGACGTCATAACATCCCTGACCCT...   \n",
       "599   5S  None  CTTCCAGGGATTTATAAGCCGATGACGTCATAACATCCCTGACCCT...   \n",
       "\n",
       "     leftbind_indx  rightbind_indx  Adsorp_F            F    F_entropy  \\\n",
       "0                0               0       0.0  1665.995831  1665.613760   \n",
       "1                0               1       0.0  1677.816020  1675.122383   \n",
       "2                0               2       0.0  1697.008048  1688.932436   \n",
       "3                0               3       0.0  1711.700379  1698.051289   \n",
       "4                0               4       0.0  1728.474859  1711.772678   \n",
       "..             ...             ...       ...          ...          ...   \n",
       "595             12              13       0.0  1681.466823  1678.240678   \n",
       "596             12              14       0.0  1681.466823  1678.240678   \n",
       "597             13              13       0.0  1669.249420  1668.764734   \n",
       "598             13              14       0.0  1669.249420  1668.764734   \n",
       "599             14              14       0.0  1653.292329  1653.292329   \n",
       "\n",
       "     F_enthalpy    F_freedna  \n",
       "0      0.382071  1650.286369  \n",
       "1      2.693637  1650.286369  \n",
       "2      8.075612  1650.286369  \n",
       "3     13.649090  1650.286369  \n",
       "4     16.702181  1650.286369  \n",
       "..          ...          ...  \n",
       "595    3.226145  1653.292329  \n",
       "596    3.226145  1653.292329  \n",
       "597    0.484686  1653.292329  \n",
       "598    0.484686  1653.292329  \n",
       "599    0.000000  1653.292329  \n",
       "\n",
       "[600 rows x 10 columns]"
      ]
     },
     "execution_count": 8,
     "metadata": {},
     "output_type": "execute_result"
    }
   ],
   "source": [
    "df_full"
   ]
  },
  {
   "cell_type": "code",
   "execution_count": 7,
   "metadata": {},
   "outputs": [],
   "source": [
    "\n",
    "df_full[\"dF\"] = df_full[\"F\"] - df_full[\"F_freedna\"]\n",
    "# df_full[\"dF\"] = df_full[\"F\"] - df_full[\"F_freedna\"]"
   ]
  },
  {
   "cell_type": "code",
   "execution_count": 8,
   "metadata": {},
   "outputs": [],
   "source": [
    "df_full[\"left_open\"] = df_full[\"leftbind_indx\"]\n",
    "df_full[\"right_open\"] = df_full[\"rightbind_indx\"].apply(lambda x: 13 - x)\n"
   ]
  },
  {
   "cell_type": "code",
   "execution_count": 9,
   "metadata": {},
   "outputs": [],
   "source": [
    "df_full.to_csv(\"free_energy_results_soft.csv\", index=False)\n",
    "\n",
    "# df_full.to_csv(\"free_energy_results_hard.csv\", index=False)"
   ]
  },
  {
   "cell_type": "markdown",
   "metadata": {},
   "source": []
  },
  {
   "cell_type": "markdown",
   "metadata": {},
   "source": [
    "# Plotting"
   ]
  },
  {
   "cell_type": "code",
   "execution_count": 13,
   "metadata": {},
   "outputs": [],
   "source": [
    "df_full = pd.read_csv(\"free_energy_results_soft.csv\")\n",
    "# df_full = pd.read_csv(\"free_energy_results_hard.csv\")"
   ]
  },
  {
   "cell_type": "code",
   "execution_count": 14,
   "metadata": {},
   "outputs": [],
   "source": [
    "import numpy as np\n",
    "\n",
    "from py_analysis.utils.plot_2d_heatmaps import plot_probability_heatmaps\n",
    "\n",
    "from py_analysis.utils.plot_3d import plot_3d_filled_volume"
   ]
  },
  {
   "cell_type": "code",
   "execution_count": 15,
   "metadata": {},
   "outputs": [],
   "source": [
    "\n",
    "E_ads=5\n",
    "\n",
    "df_full[\"Adsorp_F\"]= -E_ads*(14-(df_full[\"left_open\"]+df_full[\"right_open\"]))\n",
    "df_full[\"dF_total\"] = df_full[\"F_enthalpy\"] + df_full[\"Adsorp_F\"]\n",
    "\n",
    "df_full[\"df_exp\"]= df_full[\"dF_total\"].apply(lambda x: np.exp(-x))\n",
    "df_full[\"df_exp_norm\"] = df_full.groupby(\"id\")[\"df_exp\"].transform(lambda x: x / x.sum())\n"
   ]
  },
  {
   "cell_type": "code",
   "execution_count": null,
   "metadata": {},
   "outputs": [],
   "source": []
  },
  {
   "cell_type": "code",
   "execution_count": 16,
   "metadata": {},
   "outputs": [
    {
     "name": "stderr",
     "output_type": "stream",
     "text": [
      "/tmp/ipykernel_675615/330202466.py:14: UserWarning: FigureCanvasAgg is non-interactive, and thus cannot be shown\n",
      "  fig.show()\n"
     ]
    },
    {
     "data": {
      "image/png": "[encoded data removed]",
      "text/plain": [
       "<Figure size 6000x1500 with 6 Axes>"
      ]
     },
     "metadata": {},
     "output_type": "display_data"
    }
   ],
   "source": [
    "fig, axs = plot_probability_heatmaps(\n",
    "    df_full,\n",
    "    value_col='df_exp_norm',\n",
    "    id_col='id',\n",
    "    x_col='right_open',\n",
    "    y_col='left_open',\n",
    "    xlabel='Left Open',\n",
    "    ylabel='Right Open',\n",
    "    log_scale=True,\n",
    "    colormap='plasma_r',\n",
    "    figsize=(20, 5),\n",
    "    suptitle=\"Probability Heatmaps across ID (Log)\", dpi=300, colorbar_label = 'Normalized df_exp (log scale)'\n",
    ")\n",
    "fig.show()"
   ]
  },
  {
   "cell_type": "code",
   "execution_count": null,
   "metadata": {},
   "outputs": [],
   "source": []
  },
  {
   "cell_type": "code",
   "execution_count": null,
   "metadata": {},
   "outputs": [
    {
     "data": {
      "application/vnd.plotly.v1+json": {
       "config": {
        "plotlyServerURL": "https://plot.ly"
       },
       "data": [
        {
         "colorscale": [
          [
           0,
           "#f0f921"
          ],
          [
           0.1111111111111111,
           "#fdca26"
          ],
          [
           0.2222222222222222,
           "#fb9f3a"
          ],
          [
           0.3333333333333333,
           "#ed7953"
          ],
          [
           0.4444444444444444,
           "#d8576b"
          ],
          [
           0.5555555555555556,
           "#bd3786"
          ],
          [
           0.6666666666666666,
           "#9c179e"
          ],
          [
           0.7777777777777778,
           "#7201a8"
          ],
          [
           0.8888888888888888,
           "#46039f"
          ],
          [
           1,
           "#0d0887"
          ]
         ],
         "flatshading": true,
         "i": {
          "bdata": "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",
          "dtype": "i4"
         },
         "intensity": {
          "bdata": "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",
          "dtype": "f8"
         },
         "j": {
          "bdata": "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",
          "dtype": "i4"
         },
         "k": {
          "bdata": "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",
          "dtype": "i4"
         },
         "lighting": {
          "ambient": 0.6,
          "diffuse": 0.5,
          "roughness": 1,
          "specular": 0.1
         },
         "lightposition": {
          "x": 100,
          "y": 200,
          "z": 0
         },
         "name": "id=5S",
         "type": "mesh3d",
         "visible": true,
         "x": {
          "bdata": "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",
          "dtype": "f8"
         },
         "y": {
          "bdata": "AAAAAAAAAAAAAAAAAAAAAAAAAAAAAAAAAAAAAAAAAAAAAAAAAAAAAAAAAAAAAAAAAAAAAAAAAAAAAAAAAAAAAAAAAAAAAAAAAAAAAAAAAAAAAAAAAAAAAAAAAAAAAAAAAAAAAAAAAAAAAAAAAAAAAAAAAAAAAPA/AAAAAAAA8D8AAAAAAADwPwAAAAAAAPA/AAAAAAAA8D8AAAAAAADwPwAAAAAAAPA/AAAAAAAA8D8AAAAAAADwPwAAAAAAAPA/AAAAAAAA8D8AAAAAAADwPwAAAAAAAPA/AAAAAAAA8D8AAAAAAAAAQAAAAAAAAABAAAAAAAAAAEAAAAAAAAAAQAAAAAAAAABAAAAAAAAAAEAAAAAAAAAAQAAAAAAAAABAAAAAAAAAAEAAAAAAAAAAQAAAAAAAAABAAAAAAAAAAEAAAAAAAAAAQAAAAAAAAABAAAAAAAAACEAAAAAAAAAIQAAAAAAAAAhAAAAAAAAACEAAAAAAAAAIQAAAAAAAAAhAAAAAAAAACEAAAAAAAAAIQAAAAAAAAAhAAAAAAAAACEAAAAAAAAAIQAAAAAAAAAhAAAAAAAAACEAAAAAAAAAIQAAAAAAAABBAAAAAAAAAEEAAAAAAAAAQQAAAAAAAABBAAAAAAAAAEEAAAAAAAAAQQAAAAAAAABBAAAAAAAAAEEAAAAAAAAAQQAAAAAAAABBAAAAAAAAAEEAAAAAAAAAQQAAAAAAAABBAAAAAAAAAEEAAAAAAAAAUQAAAAAAAABRAAAAAAAAAFEAAAAAAAAAUQAAAAAAAABRAAAAAAAAAFEAAAAAAAAAUQAAAAAAAABRAAAAAAAAAFEAAAAAAAAAUQAAAAAAAABRAAAAAAAAAFEAAAAAAAAAUQAAAAAAAABRAAAAAAAAAGEAAAAAAAAAYQAAAAAAAABhAAAAAAAAAGEAAAAAAAAAYQAAAAAAAABhAAAAAAAAAGEAAAAAAAAAYQAAAAAAAABhAAAAAAAAAGEAAAAAAAAAYQAAAAAAAABhAAAAAAAAAGEAAAAAAAAAYQAAAAAAAABxAAAAAAAAAHEAAAAAAAAAcQAAAAAAAABxAAAAAAAAAHEAAAAAAAAAcQAAAAAAAABxAAAAAAAAAHEAAAAAAAAAcQAAAAAAAABxAAAAAAAAAHEAAAAAAAAAcQAAAAAAAABxAAAAAAAAAHEAAAAAAAAAgQAAAAAAAACBAAAAAAAAAIEAAAAAAAAAgQAAAAAAAACBAAAAAAAAAIEAAAAAAAAAgQAAAAAAAACBAAAAAAAAAIEAAAAAAAAAgQAAAAAAAACBAAAAAAAAAIEAAAAAAAAAgQAAAAAAAACBAAAAAAAAAIkAAAAAAAAAiQAAAAAAAACJAAAAAAAAAIkAAAAAAAAAiQAAAAAAAACJAAAAAAAAAIkAAAAAAAAAiQAAAAAAAACJAAAAAAAAAIkAAAAAAAAAiQAAAAAAAACJAAAAAAAAAIkAAAAAAAAAiQAAAAAAAACRAAAAAAAAAJEAAAAAAAAAkQAAAAAAAACRAAAAAAAAAJEAAAAAAAAAkQAAAAAAAACRAAAAAAAAAJEAAAAAAAAAkQAAAAAAAACRAAAAAAAAAJEAAAAAAAAAkQAAAAAAAACRAAAAAAAAAJEAAAAAAAAAmQAAAAAAAACZAAAAAAAAAJkAAAAAAAAAmQAAAAAAAACZAAAAAAAAAJkAAAAAAAAAmQAAAAAAAACZAAAAAAAAAJkAAAAAAAAAmQAAAAAAAACZAAAAAAAAAJkAAAAAAAAAmQAAAAAAAACZAAAAAAAAAKEAAAAAAAAAoQAAAAAAAAChAAAAAAAAAKEAAAAAAAAAoQAAAAAAAAChAAAAAAAAAKEAAAAAAAAAoQAAAAAAAAChAAAAAAAAAKEAAAAAAAAAoQAAAAAAAAChAAAAAAAAAKEAAAAAAAAAoQAAAAAAAACpAAAAAAAAAKkAAAAAAAAAqQAAAAAAAACpAAAAAAAAAKkAAAAAAAAAqQAAAAAAAACpAAAAAAAAAKkAAAAAAAAAqQAAAAAAAACpAAAAAAAAAKkAAAAAAAAAqQAAAAAAAACpAAAAAAAAAKkAAAAAAAAAAAAAAAAAAAAAAAAAAAAAAAAAAAAAAAAAAAAAAAAAAAAAAAAAAAAAAAAAAAAAAAAAAAAAAAAAAAAAAAAAAAAAAAAAAAAAAAAAAAAAAAAAAAAAAAAAAAAAAAAAAAAAAAAAAAAAAAAAAAAAAAAAAAAAA8D8AAAAAAADwPwAAAAAAAPA/AAAAAAAA8D8AAAAAAADwPwAAAAAAAPA/AAAAAAAA8D8AAAAAAADwPwAAAAAAAPA/AAAAAAAA8D8AAAAAAADwPwAAAAAAAPA/AAAAAAAA8D8AAAAAAADwPwAAAAAAAABAAAAAAAAAAEAAAAAAAAAAQAAAAAAAAABAAAAAAAAAAEAAAAAAAAAAQAAAAAAAAABAAAAAAAAAAEAAAAAAAAAAQAAAAAAAAABAAAAAAAAAAEAAAAAAAAAAQAAAAAAAAABAAAAAAAAAAEAAAAAAAAAIQAAAAAAAAAhAAAAAAAAACEAAAAAAAAAIQAAAAAAAAAhAAAAAAAAACEAAAAAAAAAIQAAAAAAAAAhAAAAAAAAACEAAAAAAAAAIQAAAAAAAAAhAAAAAAAAACEAAAAAAAAAIQAAAAAAAAAhAAAAAAAAAEEAAAAAAAAAQQAAAAAAAABBAAAAAAAAAEEAAAAAAAAAQQAAAAAAAABBAAAAAAAAAEEAAAAAAAAAQQAAAAAAAABBAAAAAAAAAEEAAAAAAAAAQQAAAAAAAABBAAAAAAAAAEEAAAAAAAAAQQAAAAAAAABRAAAAAAAAAFEAAAAAAAAAUQAAAAAAAABRAAAAAAAAAFEAAAAAAAAAUQAAAAAAAABRAAAAAAAAAFEAAAAAAAAAUQAAAAAAAABRAAAAAAAAAFEAAAAAAAAAUQAAAAAAAABRAAAAAAAAAFEAAAAAAAAAYQAAAAAAAABhAAAAAAAAAGEAAAAAAAAAYQAAAAAAAABhAAAAAAAAAGEAAAAAAAAAYQAAAAAAAABhAAAAAAAAAGEAAAAAAAAAYQAAAAAAAABhAAAAAAAAAGEAAAAAAAAAYQAAAAAAAABhAAAAAAAAAHEAAAAAAAAAcQAAAAAAAABxAAAAAAAAAHEAAAAAAAAAcQAAAAAAAABxAAAAAAAAAHEAAAAAAAAAcQAAAAAAAABxAAAAAAAAAHEAAAAAAAAAcQAAAAAAAABxAAAAAAAAAHEAAAAAAAAAcQAAAAAAAACBAAAAAAAAAIEAAAAAAAAAgQAAAAAAAACBAAAAAAAAAIEAAAAAAAAAgQAAAAAAAACBAAAAAAAAAIEAAAAAAAAAgQAAAAAAAACBAAAAAAAAAIEAAAAAAAAAgQAAAAAAAACBAAAAAAAAAIEAAAAAAAAAiQAAAAAAAACJAAAAAAAAAIkAAAAAAAAAiQAAAAAAAACJAAAAAAAAAIkAAAAAAAAAiQAAAAAAAACJAAAAAAAAAIkAAAAAAAAAiQAAAAAAAACJAAAAAAAAAIkAAAAAAAAAiQAAAAAAAACJAAAAAAAAAJEAAAAAAAAAkQAAAAAAAACRAAAAAAAAAJEAAAAAAAAAkQAAAAAAAACRAAAAAAAAAJEAAAAAAAAAkQAAAAAAAACRAAAAAAAAAJEAAAAAAAAAkQAAAAAAAACRAAAAAAAAAJEAAAAAAAAAkQAAAAAAAACZAAAAAAAAAJkAAAAAAAAAmQAAAAAAAACZAAAAAAAAAJkAAAAAAAAAmQAAAAAAAACZAAAAAAAAAJkAAAAAAAAAmQAAAAAAAACZAAAAAAAAAJkAAAAAAAAAmQAAAAAAAACZAAAAAAAAAJkAAAAAAAAAoQAAAAAAAAChAAAAAAAAAKEAAAAAAAAAoQAAAAAAAAChAAAAAAAAAKEAAAAAAAAAoQAAAAAAAAChAAAAAAAAAKEAAAAAAAAAoQAAAAAAAAChAAAAAAAAAKEAAAAAAAAAoQAAAAAAAAChAAAAAAAAAKkAAAAAAAAAqQAAAAAAAACpAAAAAAAAAKkAAAAAAAAAqQAAAAAAAACpAAAAAAAAAKkAAAAAAAAAqQAAAAAAAACpAAAAAAAAAKkAAAAAAAAAqQAAAAAAAACpAAAAAAAAAKkAAAAAAAAAqQA==",
          "dtype": "f8"
         },
         "z": {
          "bdata": "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",
          "dtype": "f8"
         }
        },
        {
         "contours": {
          "x": {
           "color": "black",
           "end": 13,
           "show": true,
           "size": 1,
           "start": 0,
           "width": 2
          },
          "y": {
           "color": "black",
           "end": 13,
           "show": true,
           "size": 1,
           "start": 0,
           "width": 2
          },
          "z": {
           "highlightcolor": "white",
           "project": {
            "z": true
           },
           "show": false,
           "usecolormap": true
          }
         },
         "name": "id=5S-grid",
         "opacity": 0,
         "showscale": false,
         "type": "surface",
         "visible": true,
         "x": {
          "bdata": "AAECAwQFBgcICQoLDA0AAQIDBAUGBwgJCgsMDQABAgMEBQYHCAkKCwwNAAECAwQFBgcICQoLDA0AAQIDBAUGBwgJCgsMDQABAgMEBQYHCAkKCwwNAAECAwQFBgcICQoLDA0AAQIDBAUGBwgJCgsMDQABAgMEBQYHCAkKCwwNAAECAwQFBgcICQoLDA0AAQIDBAUGBwgJCgsMDQABAgMEBQYHCAkKCwwNAAECAwQFBgcICQoLDA0AAQIDBAUGBwgJCgsMDQ==",
          "dtype": "i1",
          "shape": "14, 14"
         },
         "y": {
          "bdata": "AAAAAAAAAAAAAAAAAAABAQEBAQEBAQEBAQEBAQICAgICAgICAgICAgICAwMDAwMDAwMDAwMDAwMEBAQEBAQEBAQEBAQEBAUFBQUFBQUFBQUFBQUFBgYGBgYGBgYGBgYGBgYHBwcHBwcHBwcHBwcHBwgICAgICAgICAgICAgICQkJCQkJCQkJCQkJCQkKCgoKCgoKCgoKCgoKCgsLCwsLCwsLCwsLCwsLDAwMDAwMDAwMDAwMDAwNDQ0NDQ0NDQ0NDQ0NDQ==",
          "dtype": "i1",
          "shape": "14, 14"
         },
         "z": {
          "bdata": "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",
          "dtype": "f8",
          "shape": "14, 14"
         }
        },
        {
         "colorscale": [
          [
           0,
           "#f0f921"
          ],
          [
           0.1111111111111111,
           "#fdca26"
          ],
          [
           0.2222222222222222,
           "#fb9f3a"
          ],
          [
           0.3333333333333333,
           "#ed7953"
          ],
          [
           0.4444444444444444,
           "#d8576b"
          ],
          [
           0.5555555555555556,
           "#bd3786"
          ],
          [
           0.6666666666666666,
           "#9c179e"
          ],
          [
           0.7777777777777778,
           "#7201a8"
          ],
          [
           0.8888888888888888,
           "#46039f"
          ],
          [
           1,
           "#0d0887"
          ]
         ],
         "flatshading": true,
         "i": {
          "bdata": "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",
          "dtype": "i4"
         },
         "intensity": {
          "bdata": "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",
          "dtype": "f8"
         },
         "j": {
          "bdata": "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",
          "dtype": "i4"
         },
         "k": {
          "bdata": "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",
          "dtype": "i4"
         },
         "lighting": {
          "ambient": 0.6,
          "diffuse": 0.5,
          "roughness": 1,
          "specular": 0.1
         },
         "lightposition": {
          "x": 100,
          "y": 200,
          "z": 0
         },
         "name": "id=601",
         "type": "mesh3d",
         "visible": false,
         "x": {
          "bdata": "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",
          "dtype": "f8"
         },
         "y": {
          "bdata": "AAAAAAAAAAAAAAAAAAAAAAAAAAAAAAAAAAAAAAAAAAAAAAAAAAAAAAAAAAAAAAAAAAAAAAAAAAAAAAAAAAAAAAAAAAAAAAAAAAAAAAAAAAAAAAAAAAAAAAAAAAAAAAAAAAAAAAAAAAAAAAAAAAAAAAAAAAAAAPA/AAAAAAAA8D8AAAAAAADwPwAAAAAAAPA/AAAAAAAA8D8AAAAAAADwPwAAAAAAAPA/AAAAAAAA8D8AAAAAAADwPwAAAAAAAPA/AAAAAAAA8D8AAAAAAADwPwAAAAAAAPA/AAAAAAAA8D8AAAAAAAAAQAAAAAAAAABAAAAAAAAAAEAAAAAAAAAAQAAAAAAAAABAAAAAAAAAAEAAAAAAAAAAQAAAAAAAAABAAAAAAAAAAEAAAAAAAAAAQAAAAAAAAABAAAAAAAAAAEAAAAAAAAAAQAAAAAAAAABAAAAAAAAACEAAAAAAAAAIQAAAAAAAAAhAAAAAAAAACEAAAAAAAAAIQAAAAAAAAAhAAAAAAAAACEAAAAAAAAAIQAAAAAAAAAhAAAAAAAAACEAAAAAAAAAIQAAAAAAAAAhAAAAAAAAACEAAAAAAAAAIQAAAAAAAABBAAAAAAAAAEEAAAAAAAAAQQAAAAAAAABBAAAAAAAAAEEAAAAAAAAAQQAAAAAAAABBAAAAAAAAAEEAAAAAAAAAQQAAAAAAAABBAAAAAAAAAEEAAAAAAAAAQQAAAAAAAABBAAAAAAAAAEEAAAAAAAAAUQAAAAAAAABRAAAAAAAAAFEAAAAAAAAAUQAAAAAAAABRAAAAAAAAAFEAAAAAAAAAUQAAAAAAAABRAAAAAAAAAFEAAAAAAAAAUQAAAAAAAABRAAAAAAAAAFEAAAAAAAAAUQAAAAAAAABRAAAAAAAAAGEAAAAAAAAAYQAAAAAAAABhAAAAAAAAAGEAAAAAAAAAYQAAAAAAAABhAAAAAAAAAGEAAAAAAAAAYQAAAAAAAABhAAAAAAAAAGEAAAAAAAAAYQAAAAAAAABhAAAAAAAAAGEAAAAAAAAAYQAAAAAAAABxAAAAAAAAAHEAAAAAAAAAcQAAAAAAAABxAAAAAAAAAHEAAAAAAAAAcQAAAAAAAABxAAAAAAAAAHEAAAAAAAAAcQAAAAAAAABxAAAAAAAAAHEAAAAAAAAAcQAAAAAAAABxAAAAAAAAAHEAAAAAAAAAgQAAAAAAAACBAAAAAAAAAIEAAAAAAAAAgQAAAAAAAACBAAAAAAAAAIEAAAAAAAAAgQAAAAAAAACBAAAAAAAAAIEAAAAAAAAAgQAAAAAAAACBAAAAAAAAAIEAAAAAAAAAgQAAAAAAAACBAAAAAAAAAIkAAAAAAAAAiQAAAAAAAACJAAAAAAAAAIkAAAAAAAAAiQAAAAAAAACJAAAAAAAAAIkAAAAAAAAAiQAAAAAAAACJAAAAAAAAAIkAAAAAAAAAiQAAAAAAAACJAAAAAAAAAIkAAAAAAAAAiQAAAAAAAACRAAAAAAAAAJEAAAAAAAAAkQAAAAAAAACRAAAAAAAAAJEAAAAAAAAAkQAAAAAAAACRAAAAAAAAAJEAAAAAAAAAkQAAAAAAAACRAAAAAAAAAJEAAAAAAAAAkQAAAAAAAACRAAAAAAAAAJEAAAAAAAAAmQAAAAAAAACZAAAAAAAAAJkAAAAAAAAAmQAAAAAAAACZAAAAAAAAAJkAAAAAAAAAmQAAAAAAAACZAAAAAAAAAJkAAAAAAAAAmQAAAAAAAACZAAAAAAAAAJkAAAAAAAAAmQAAAAAAAACZAAAAAAAAAKEAAAAAAAAAoQAAAAAAAAChAAAAAAAAAKEAAAAAAAAAoQAAAAAAAAChAAAAAAAAAKEAAAAAAAAAoQAAAAAAAAChAAAAAAAAAKEAAAAAAAAAoQAAAAAAAAChAAAAAAAAAKEAAAAAAAAAoQAAAAAAAACpAAAAAAAAAKkAAAAAAAAAqQAAAAAAAACpAAAAAAAAAKkAAAAAAAAAqQAAAAAAAACpAAAAAAAAAKkAAAAAAAAAqQAAAAAAAACpAAAAAAAAAKkAAAAAAAAAqQAAAAAAAACpAAAAAAAAAKkAAAAAAAAAAAAAAAAAAAAAAAAAAAAAAAAAAAAAAAAAAAAAAAAAAAAAAAAAAAAAAAAAAAAAAAAAAAAAAAAAAAAAAAAAAAAAAAAAAAAAAAAAAAAAAAAAAAAAAAAAAAAAAAAAAAAAAAAAAAAAAAAAAAAAAAAAAAAAA8D8AAAAAAADwPwAAAAAAAPA/AAAAAAAA8D8AAAAAAADwPwAAAAAAAPA/AAAAAAAA8D8AAAAAAADwPwAAAAAAAPA/AAAAAAAA8D8AAAAAAADwPwAAAAAAAPA/AAAAAAAA8D8AAAAAAADwPwAAAAAAAABAAAAAAAAAAEAAAAAAAAAAQAAAAAAAAABAAAAAAAAAAEAAAAAAAAAAQAAAAAAAAABAAAAAAAAAAEAAAAAAAAAAQAAAAAAAAABAAAAAAAAAAEAAAAAAAAAAQAAAAAAAAABAAAAAAAAAAEAAAAAAAAAIQAAAAAAAAAhAAAAAAAAACEAAAAAAAAAIQAAAAAAAAAhAAAAAAAAACEAAAAAAAAAIQAAAAAAAAAhAAAAAAAAACEAAAAAAAAAIQAAAAAAAAAhAAAAAAAAACEAAAAAAAAAIQAAAAAAAAAhAAAAAAAAAEEAAAAAAAAAQQAAAAAAAABBAAAAAAAAAEEAAAAAAAAAQQAAAAAAAABBAAAAAAAAAEEAAAAAAAAAQQAAAAAAAABBAAAAAAAAAEEAAAAAAAAAQQAAAAAAAABBAAAAAAAAAEEAAAAAAAAAQQAAAAAAAABRAAAAAAAAAFEAAAAAAAAAUQAAAAAAAABRAAAAAAAAAFEAAAAAAAAAUQAAAAAAAABRAAAAAAAAAFEAAAAAAAAAUQAAAAAAAABRAAAAAAAAAFEAAAAAAAAAUQAAAAAAAABRAAAAAAAAAFEAAAAAAAAAYQAAAAAAAABhAAAAAAAAAGEAAAAAAAAAYQAAAAAAAABhAAAAAAAAAGEAAAAAAAAAYQAAAAAAAABhAAAAAAAAAGEAAAAAAAAAYQAAAAAAAABhAAAAAAAAAGEAAAAAAAAAYQAAAAAAAABhAAAAAAAAAHEAAAAAAAAAcQAAAAAAAABxAAAAAAAAAHEAAAAAAAAAcQAAAAAAAABxAAAAAAAAAHEAAAAAAAAAcQAAAAAAAABxAAAAAAAAAHEAAAAAAAAAcQAAAAAAAABxAAAAAAAAAHEAAAAAAAAAcQAAAAAAAACBAAAAAAAAAIEAAAAAAAAAgQAAAAAAAACBAAAAAAAAAIEAAAAAAAAAgQAAAAAAAACBAAAAAAAAAIEAAAAAAAAAgQAAAAAAAACBAAAAAAAAAIEAAAAAAAAAgQAAAAAAAACBAAAAAAAAAIEAAAAAAAAAiQAAAAAAAACJAAAAAAAAAIkAAAAAAAAAiQAAAAAAAACJAAAAAAAAAIkAAAAAAAAAiQAAAAAAAACJAAAAAAAAAIkAAAAAAAAAiQAAAAAAAACJAAAAAAAAAIkAAAAAAAAAiQAAAAAAAACJAAAAAAAAAJEAAAAAAAAAkQAAAAAAAACRAAAAAAAAAJEAAAAAAAAAkQAAAAAAAACRAAAAAAAAAJEAAAAAAAAAkQAAAAAAAACRAAAAAAAAAJEAAAAAAAAAkQAAAAAAAACRAAAAAAAAAJEAAAAAAAAAkQAAAAAAAACZAAAAAAAAAJkAAAAAAAAAmQAAAAAAAACZAAAAAAAAAJkAAAAAAAAAmQAAAAAAAACZAAAAAAAAAJkAAAAAAAAAmQAAAAAAAACZAAAAAAAAAJkAAAAAAAAAmQAAAAAAAACZAAAAAAAAAJkAAAAAAAAAoQAAAAAAAAChAAAAAAAAAKEAAAAAAAAAoQAAAAAAAAChAAAAAAAAAKEAAAAAAAAAoQAAAAAAAAChAAAAAAAAAKEAAAAAAAAAoQAAAAAAAAChAAAAAAAAAKEAAAAAAAAAoQAAAAAAAAChAAAAAAAAAKkAAAAAAAAAqQAAAAAAAACpAAAAAAAAAKkAAAAAAAAAqQAAAAAAAACpAAAAAAAAAKkAAAAAAAAAqQAAAAAAAACpAAAAAAAAAKkAAAAAAAAAqQAAAAAAAACpAAAAAAAAAKkAAAAAAAAAqQA==",
          "dtype": "f8"
         },
         "z": {
          "bdata": "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",
          "dtype": "f8"
         }
        },
        {
         "contours": {
          "x": {
           "color": "black",
           "end": 13,
           "show": true,
           "size": 1,
           "start": 0,
           "width": 2
          },
          "y": {
           "color": "black",
           "end": 13,
           "show": true,
           "size": 1,
           "start": 0,
           "width": 2
          },
          "z": {
           "highlightcolor": "white",
           "project": {
            "z": true
           },
           "show": false,
           "usecolormap": true
          }
         },
         "name": "id=601-grid",
         "opacity": 0,
         "showscale": false,
         "type": "surface",
         "visible": false,
         "x": {
          "bdata": "AAECAwQFBgcICQoLDA0AAQIDBAUGBwgJCgsMDQABAgMEBQYHCAkKCwwNAAECAwQFBgcICQoLDA0AAQIDBAUGBwgJCgsMDQABAgMEBQYHCAkKCwwNAAECAwQFBgcICQoLDA0AAQIDBAUGBwgJCgsMDQABAgMEBQYHCAkKCwwNAAECAwQFBgcICQoLDA0AAQIDBAUGBwgJCgsMDQABAgMEBQYHCAkKCwwNAAECAwQFBgcICQoLDA0AAQIDBAUGBwgJCgsMDQ==",
          "dtype": "i1",
          "shape": "14, 14"
         },
         "y": {
          "bdata": "AAAAAAAAAAAAAAAAAAABAQEBAQEBAQEBAQEBAQICAgICAgICAgICAgICAwMDAwMDAwMDAwMDAwMEBAQEBAQEBAQEBAQEBAUFBQUFBQUFBQUFBQUFBgYGBgYGBgYGBgYGBgYHBwcHBwcHBwcHBwcHBwgICAgICAgICAgICAgICQkJCQkJCQkJCQkJCQkKCgoKCgoKCgoKCgoKCgsLCwsLCwsLCwsLCwsLDAwMDAwMDAwMDAwMDAwNDQ0NDQ0NDQ0NDQ0NDQ==",
          "dtype": "i1",
          "shape": "14, 14"
         },
         "z": {
          "bdata": "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",
          "dtype": "f8",
          "shape": "14, 14"
         }
        },
        {
         "colorscale": [
          [
           0,
           "#f0f921"
          ],
          [
           0.1111111111111111,
           "#fdca26"
          ],
          [
           0.2222222222222222,
           "#fb9f3a"
          ],
          [
           0.3333333333333333,
           "#ed7953"
          ],
          [
           0.4444444444444444,
           "#d8576b"
          ],
          [
           0.5555555555555556,
           "#bd3786"
          ],
          [
           0.6666666666666666,
           "#9c179e"
          ],
          [
           0.7777777777777778,
           "#7201a8"
          ],
          [
           0.8888888888888888,
           "#46039f"
          ],
          [
           1,
           "#0d0887"
          ]
         ],
         "flatshading": true,
         "i": {
          "bdata": "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",
          "dtype": "i4"
         },
         "intensity": {
          "bdata": "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",
          "dtype": "f8"
         },
         "j": {
          "bdata": "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",
          "dtype": "i4"
         },
         "k": {
          "bdata": "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",
          "dtype": "i4"
         },
         "lighting": {
          "ambient": 0.6,
          "diffuse": 0.5,
          "roughness": 1,
          "specular": 0.1
         },
         "lightposition": {
          "x": 100,
          "y": 200,
          "z": 0
         },
         "name": "id=601L",
         "type": "mesh3d",
         "visible": false,
         "x": {
          "bdata": "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",
          "dtype": "f8"
         },
         "y": {
          "bdata": "AAAAAAAAAAAAAAAAAAAAAAAAAAAAAAAAAAAAAAAAAAAAAAAAAAAAAAAAAAAAAAAAAAAAAAAAAAAAAAAAAAAAAAAAAAAAAAAAAAAAAAAAAAAAAAAAAAAAAAAAAAAAAAAAAAAAAAAAAAAAAAAAAAAAAAAAAAAAAPA/AAAAAAAA8D8AAAAAAADwPwAAAAAAAPA/AAAAAAAA8D8AAAAAAADwPwAAAAAAAPA/AAAAAAAA8D8AAAAAAADwPwAAAAAAAPA/AAAAAAAA8D8AAAAAAADwPwAAAAAAAPA/AAAAAAAA8D8AAAAAAAAAQAAAAAAAAABAAAAAAAAAAEAAAAAAAAAAQAAAAAAAAABAAAAAAAAAAEAAAAAAAAAAQAAAAAAAAABAAAAAAAAAAEAAAAAAAAAAQAAAAAAAAABAAAAAAAAAAEAAAAAAAAAAQAAAAAAAAABAAAAAAAAACEAAAAAAAAAIQAAAAAAAAAhAAAAAAAAACEAAAAAAAAAIQAAAAAAAAAhAAAAAAAAACEAAAAAAAAAIQAAAAAAAAAhAAAAAAAAACEAAAAAAAAAIQAAAAAAAAAhAAAAAAAAACEAAAAAAAAAIQAAAAAAAABBAAAAAAAAAEEAAAAAAAAAQQAAAAAAAABBAAAAAAAAAEEAAAAAAAAAQQAAAAAAAABBAAAAAAAAAEEAAAAAAAAAQQAAAAAAAABBAAAAAAAAAEEAAAAAAAAAQQAAAAAAAABBAAAAAAAAAEEAAAAAAAAAUQAAAAAAAABRAAAAAAAAAFEAAAAAAAAAUQAAAAAAAABRAAAAAAAAAFEAAAAAAAAAUQAAAAAAAABRAAAAAAAAAFEAAAAAAAAAUQAAAAAAAABRAAAAAAAAAFEAAAAAAAAAUQAAAAAAAABRAAAAAAAAAGEAAAAAAAAAYQAAAAAAAABhAAAAAAAAAGEAAAAAAAAAYQAAAAAAAABhAAAAAAAAAGEAAAAAAAAAYQAAAAAAAABhAAAAAAAAAGEAAAAAAAAAYQAAAAAAAABhAAAAAAAAAGEAAAAAAAAAYQAAAAAAAABxAAAAAAAAAHEAAAAAAAAAcQAAAAAAAABxAAAAAAAAAHEAAAAAAAAAcQAAAAAAAABxAAAAAAAAAHEAAAAAAAAAcQAAAAAAAABxAAAAAAAAAHEAAAAAAAAAcQAAAAAAAABxAAAAAAAAAHEAAAAAAAAAgQAAAAAAAACBAAAAAAAAAIEAAAAAAAAAgQAAAAAAAACBAAAAAAAAAIEAAAAAAAAAgQAAAAAAAACBAAAAAAAAAIEAAAAAAAAAgQAAAAAAAACBAAAAAAAAAIEAAAAAAAAAgQAAAAAAAACBAAAAAAAAAIkAAAAAAAAAiQAAAAAAAACJAAAAAAAAAIkAAAAAAAAAiQAAAAAAAACJAAAAAAAAAIkAAAAAAAAAiQAAAAAAAACJAAAAAAAAAIkAAAAAAAAAiQAAAAAAAACJAAAAAAAAAIkAAAAAAAAAiQAAAAAAAACRAAAAAAAAAJEAAAAAAAAAkQAAAAAAAACRAAAAAAAAAJEAAAAAAAAAkQAAAAAAAACRAAAAAAAAAJEAAAAAAAAAkQAAAAAAAACRAAAAAAAAAJEAAAAAAAAAkQAAAAAAAACRAAAAAAAAAJEAAAAAAAAAmQAAAAAAAACZAAAAAAAAAJkAAAAAAAAAmQAAAAAAAACZAAAAAAAAAJkAAAAAAAAAmQAAAAAAAACZAAAAAAAAAJkAAAAAAAAAmQAAAAAAAACZAAAAAAAAAJkAAAAAAAAAmQAAAAAAAACZAAAAAAAAAKEAAAAAAAAAoQAAAAAAAAChAAAAAAAAAKEAAAAAAAAAoQAAAAAAAAChAAAAAAAAAKEAAAAAAAAAoQAAAAAAAAChAAAAAAAAAKEAAAAAAAAAoQAAAAAAAAChAAAAAAAAAKEAAAAAAAAAoQAAAAAAAACpAAAAAAAAAKkAAAAAAAAAqQAAAAAAAACpAAAAAAAAAKkAAAAAAAAAqQAAAAAAAACpAAAAAAAAAKkAAAAAAAAAqQAAAAAAAACpAAAAAAAAAKkAAAAAAAAAqQAAAAAAAACpAAAAAAAAAKkAAAAAAAAAAAAAAAAAAAAAAAAAAAAAAAAAAAAAAAAAAAAAAAAAAAAAAAAAAAAAAAAAAAAAAAAAAAAAAAAAAAAAAAAAAAAAAAAAAAAAAAAAAAAAAAAAAAAAAAAAAAAAAAAAAAAAAAAAAAAAAAAAAAAAAAAAAAAAA8D8AAAAAAADwPwAAAAAAAPA/AAAAAAAA8D8AAAAAAADwPwAAAAAAAPA/AAAAAAAA8D8AAAAAAADwPwAAAAAAAPA/AAAAAAAA8D8AAAAAAADwPwAAAAAAAPA/AAAAAAAA8D8AAAAAAADwPwAAAAAAAABAAAAAAAAAAEAAAAAAAAAAQAAAAAAAAABAAAAAAAAAAEAAAAAAAAAAQAAAAAAAAABAAAAAAAAAAEAAAAAAAAAAQAAAAAAAAABAAAAAAAAAAEAAAAAAAAAAQAAAAAAAAABAAAAAAAAAAEAAAAAAAAAIQAAAAAAAAAhAAAAAAAAACEAAAAAAAAAIQAAAAAAAAAhAAAAAAAAACEAAAAAAAAAIQAAAAAAAAAhAAAAAAAAACEAAAAAAAAAIQAAAAAAAAAhAAAAAAAAACEAAAAAAAAAIQAAAAAAAAAhAAAAAAAAAEEAAAAAAAAAQQAAAAAAAABBAAAAAAAAAEEAAAAAAAAAQQAAAAAAAABBAAAAAAAAAEEAAAAAAAAAQQAAAAAAAABBAAAAAAAAAEEAAAAAAAAAQQAAAAAAAABBAAAAAAAAAEEAAAAAAAAAQQAAAAAAAABRAAAAAAAAAFEAAAAAAAAAUQAAAAAAAABRAAAAAAAAAFEAAAAAAAAAUQAAAAAAAABRAAAAAAAAAFEAAAAAAAAAUQAAAAAAAABRAAAAAAAAAFEAAAAAAAAAUQAAAAAAAABRAAAAAAAAAFEAAAAAAAAAYQAAAAAAAABhAAAAAAAAAGEAAAAAAAAAYQAAAAAAAABhAAAAAAAAAGEAAAAAAAAAYQAAAAAAAABhAAAAAAAAAGEAAAAAAAAAYQAAAAAAAABhAAAAAAAAAGEAAAAAAAAAYQAAAAAAAABhAAAAAAAAAHEAAAAAAAAAcQAAAAAAAABxAAAAAAAAAHEAAAAAAAAAcQAAAAAAAABxAAAAAAAAAHEAAAAAAAAAcQAAAAAAAABxAAAAAAAAAHEAAAAAAAAAcQAAAAAAAABxAAAAAAAAAHEAAAAAAAAAcQAAAAAAAACBAAAAAAAAAIEAAAAAAAAAgQAAAAAAAACBAAAAAAAAAIEAAAAAAAAAgQAAAAAAAACBAAAAAAAAAIEAAAAAAAAAgQAAAAAAAACBAAAAAAAAAIEAAAAAAAAAgQAAAAAAAACBAAAAAAAAAIEAAAAAAAAAiQAAAAAAAACJAAAAAAAAAIkAAAAAAAAAiQAAAAAAAACJAAAAAAAAAIkAAAAAAAAAiQAAAAAAAACJAAAAAAAAAIkAAAAAAAAAiQAAAAAAAACJAAAAAAAAAIkAAAAAAAAAiQAAAAAAAACJAAAAAAAAAJEAAAAAAAAAkQAAAAAAAACRAAAAAAAAAJEAAAAAAAAAkQAAAAAAAACRAAAAAAAAAJEAAAAAAAAAkQAAAAAAAACRAAAAAAAAAJEAAAAAAAAAkQAAAAAAAACRAAAAAAAAAJEAAAAAAAAAkQAAAAAAAACZAAAAAAAAAJkAAAAAAAAAmQAAAAAAAACZAAAAAAAAAJkAAAAAAAAAmQAAAAAAAACZAAAAAAAAAJkAAAAAAAAAmQAAAAAAAACZAAAAAAAAAJkAAAAAAAAAmQAAAAAAAACZAAAAAAAAAJkAAAAAAAAAoQAAAAAAAAChAAAAAAAAAKEAAAAAAAAAoQAAAAAAAAChAAAAAAAAAKEAAAAAAAAAoQAAAAAAAAChAAAAAAAAAKEAAAAAAAAAoQAAAAAAAAChAAAAAAAAAKEAAAAAAAAAoQAAAAAAAAChAAAAAAAAAKkAAAAAAAAAqQAAAAAAAACpAAAAAAAAAKkAAAAAAAAAqQAAAAAAAACpAAAAAAAAAKkAAAAAAAAAqQAAAAAAAACpAAAAAAAAAKkAAAAAAAAAqQAAAAAAAACpAAAAAAAAAKkAAAAAAAAAqQA==",
          "dtype": "f8"
         },
         "z": {
          "bdata": "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",
          "dtype": "f8"
         }
        },
        {
         "contours": {
          "x": {
           "color": "black",
           "end": 13,
           "show": true,
           "size": 1,
           "start": 0,
           "width": 2
          },
          "y": {
           "color": "black",
           "end": 13,
           "show": true,
           "size": 1,
           "start": 0,
           "width": 2
          },
          "z": {
           "highlightcolor": "white",
           "project": {
            "z": true
           },
           "show": false,
           "usecolormap": true
          }
         },
         "name": "id=601L-grid",
         "opacity": 0,
         "showscale": false,
         "type": "surface",
         "visible": false,
         "x": {
          "bdata": "AAECAwQFBgcICQoLDA0AAQIDBAUGBwgJCgsMDQABAgMEBQYHCAkKCwwNAAECAwQFBgcICQoLDA0AAQIDBAUGBwgJCgsMDQABAgMEBQYHCAkKCwwNAAECAwQFBgcICQoLDA0AAQIDBAUGBwgJCgsMDQABAgMEBQYHCAkKCwwNAAECAwQFBgcICQoLDA0AAQIDBAUGBwgJCgsMDQABAgMEBQYHCAkKCwwNAAECAwQFBgcICQoLDA0AAQIDBAUGBwgJCgsMDQ==",
          "dtype": "i1",
          "shape": "14, 14"
         },
         "y": {
          "bdata": "AAAAAAAAAAAAAAAAAAABAQEBAQEBAQEBAQEBAQICAgICAgICAgICAgICAwMDAwMDAwMDAwMDAwMEBAQEBAQEBAQEBAQEBAUFBQUFBQUFBQUFBQUFBgYGBgYGBgYGBgYGBgYHBwcHBwcHBwcHBwcHBwgICAgICAgICAgICAgICQkJCQkJCQkJCQkJCQkKCgoKCgoKCgoKCgoKCgsLCwsLCwsLCwsLCwsLDAwMDAwMDAwMDAwMDAwNDQ0NDQ0NDQ0NDQ0NDQ==",
          "dtype": "i1",
          "shape": "14, 14"
         },
         "z": {
          "bdata": "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",
          "dtype": "f8",
          "shape": "14, 14"
         }
        },
        {
         "colorscale": [
          [
           0,
           "#f0f921"
          ],
          [
           0.1111111111111111,
           "#fdca26"
          ],
          [
           0.2222222222222222,
           "#fb9f3a"
          ],
          [
           0.3333333333333333,
           "#ed7953"
          ],
          [
           0.4444444444444444,
           "#d8576b"
          ],
          [
           0.5555555555555556,
           "#bd3786"
          ],
          [
           0.6666666666666666,
           "#9c179e"
          ],
          [
           0.7777777777777778,
           "#7201a8"
          ],
          [
           0.8888888888888888,
           "#46039f"
          ],
          [
           1,
           "#0d0887"
          ]
         ],
         "flatshading": true,
         "i": {
          "bdata": "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",
          "dtype": "i4"
         },
         "intensity": {
          "bdata": "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",
          "dtype": "f8"
         },
         "j": {
          "bdata": "agAAAHcAAAACAAAAAwAAAL4AAACvAAAAeQAAAIYAAACfAAAAkAAAAAsAAAAaAAAAGAAAAAsAAAAkAAAAJQAAAB0AAAAdAAAAEgAAABIAAAAEAAAAEgAAAMIAAADBAAAAsgAAALIAAACIAAAAeQAAAIgAAAB7AAAAXAAAAGsAAABrAAAAeQAAAC4AAAA9AAAAaAAAAHcAAABoAAAAZwAAAGgAAABbAAAAagAAAFwAAABCAAAAUQAAAF4AAABRAAAAbwAAAH0AAABYAAAAZwAAAHUAAABoAAAAdQAAAHQAAACCAAAAdQAAAIIAAABzAAAAgwAAAIIAAAC9AAAArwAAAK4AAAChAAAAuAAAAKoAAAAFAAAAEwAAABQAAAAHAAAAEgAAACEAAAAhAAAAFAAAAC4AAAAhAAAAIQAAADAAAAAUAAAAIwAAABIAAAAfAAAADwAAAA4AAAAPAAAAAgAAABwAAAAdAAAAOgAAADkAAACiAAAAkwAAAKIAAACiAAAAtQAAALUAAAC1AAAAtAAAALEAAACiAAAAsQAAAL4AAADAAAAAsgAAAKIAAACVAAAAhgAAAJUAAAC0AAAApQAAAJgAAACnAAAAmAAAAKUAAABbAAAATAAAAE8AAABeAAAAbAAAAGwAAABrAAAAbAAAAGAAAABgAAAAqAAAAJoAAACAAAAAcwAAAIIAAACPAAAAkAAAAI8AAABVAAAARgAAAEcAAABVAAAAWAAAAGUAAABlAAAAZQAAAAwAAAAaAAAAKQAAADcAAAAbAAAAKAAAAAkAAAAJAAAAIwAAABYAAAAHAAAAFgAAABYAAAAXAAAACQAAABYAAAAxAAAAQAAAADAAAAAxAAAAJAAAACMAAAAuAAAALQAAAC0AAAAfAAAAKgAAADgAAAA5AAAAOAAAAIQAAAB1AAAAiAAAAJYAAACWAAAAlQAAAIoAAACKAAAAigAAAHsAAACLAAAAigAAAJcAAACYAAAAPgAAADEAAAA9AAAAPgAAAD4AAAA+AAAATQAAAE4AAABOAAAAWwAAAE4AAABPAAAAQQAAAE4AAAAyAAAAQAAAAEIAAABBAAAAFwAAACYAAABEAAAARAAAADUAAABEAAAAbgAAAG0AAABgAAAAbQAAAHsAAABtAAAAXgAAAGwAAABWAAAASQAAAEkAAAA6AAAAWAAAAEoAAAA7AAAASQAAAD4AAABLAAAAWgAAAEwAAABLAAAASgAAAEsAAABLAAAAtwAAALcAAAC3AAAAqQAAAH8AAABwAAAAfwAAAHEAAACpAAAAnAAAAJwAAACdAAAAcwAAAGUAAABkAAAAVgAAAA8AAAAeAAAAEAAAAB4AAAChAAAAkwAAAJ8AAACSAAAAkgAAAJIAAACSAAAAhQAAAHcAAACFAAAAhQAAAIYAAACFAAAAhAAAAKQAAAClAAAAsQAAAKQAAACkAAAAlgAAAKQAAACkAAAANAAAADUAAABBAAAANAAAADQAAAA0AAAANAAAACcAAAAnAAAAJwAAACgAAAAnAAAAGAAAACYAAABTAAAAUgAAAFIAAABgAAAAUgAAAEQAAABRAAAAUgAAAJ0AAACsAAAAuQAAALoAAACNAAAAjQAAAIwAAACNAAAAYgAAAGMAAABwAAAAYwAAAFUAAABjAAAAYwAAAGQAAAAtAAAALAAAACwAAAA5AAAALAAAAB4AAAAsAAAALAAAAK4AAACtAAAArQAAAJ8AAACtAAAArQAAAK0AAACsAAAAjwAAAI4AAACAAAAAjgAAAJwAAACOAAAAfwAAAI0AAAA8AQAALQEAANUAAADVAAAAgQEAAHQBAABLAQAAPAEAAGIBAABVAQAA0AAAAN0AAADOAAAA3QAAAPcAAAD3AAAA7gAAAO8AAADVAAAAxwAAAMkAAADJAAAAhQEAAHcBAACFAQAAdwEAAEsBAAA+AQAAPgEAAE0BAAAhAQAALgEAADwBAAA8AQAA8wAAAAABAAAtAQAAOgEAAB0BAAAdAQAAHgEAAC0BAAAtAQAALgEAAAcBAAAUAQAAFAEAACMBAABBAQAAQAEAAB0BAAAqAQAAKwEAADoBAAAqAQAAKgEAADgBAABHAQAARQEAADgBAABVAQAAVQEAAIABAACBAQAAZAEAAHMBAABvAQAAbwEAAMoAAADJAAAAygAAANkAAADXAAAA5AAAANcAAADmAAAA5AAAAPMAAADmAAAA8wAAANkAAADmAAAA5AAAANUAAADEAAAAxAAAAMUAAADUAAAA0gAAAOAAAAAMAQAADAEAAGUBAABYAQAAdAEAAHMBAACHAQAAhgEAAGoBAABqAQAAdAEAAGcBAACDAQAAdAEAAIMBAACEAQAAWAEAAGcBAABLAQAAWAEAAHcBAABqAQAAXQEAAGoBAABqAQAAWwEAAB4BAAARAQAAFAEAACEBAAA+AQAAPQEAACEBAAAhAQAAJQEAADMBAABeAQAAXwEAADYBAABFAQAAVAEAAEUBAABiAQAAYgEAABgBAAALAQAADAEAAAwBAAAqAQAAGwEAACoBAAA4AQAA0QAAANAAAAD7AAAA+gAAAO0AAADeAAAAzgAAANwAAADZAAAA6AAAAMwAAADZAAAA6QAAAOkAAADbAAAAzAAAAPYAAAADAQAA5gAAAOYAAAD2AAAA6AAAAAABAAAAAQAA5AAAAOQAAADvAAAA7wAAAAsBAAALAQAARwEAADoBAABNAQAATQEAAEsBAABLAQAAQQEAAEABAABNAQAAQAEAAF0BAABdAQAATQEAAFsBAAD0AAAAAwEAAPMAAADzAAAAEQEAAAMBAAADAQAAAwEAACABAAARAQAAIQEAACEBAAATAQAABAEAAPcAAAD2AAAAFAEAABQBAADcAAAA6QAAAPsAAAD6AAAA+gAAAAcBAABAAQAAQAEAADIBAAAjAQAAPgEAAD4BAAAjAQAAIgEAAAwBAAAbAQAADAEAAP8AAAAbAQAAHAEAAAABAAAAAQAAEAEAAAEBAAAdAQAAHgEAAAABAAAAAQAAHQEAABwBAAB6AQAAbAEAAG4BAABuAQAAQgEAADUBAAA2AQAANgEAAF8BAABuAQAAbwEAAG8BAAA2AQAANwEAABsBAAAbAQAA1AAAAOEAAADVAAAA1QAAAGQBAABlAQAAVQEAAGQBAABVAQAARwEAAEgBAABXAQAAPAEAADwBAABYAQAAWAEAADoBAAA6AQAAdwEAAHcBAABnAQAAdgEAAFsBAABbAQAAZwEAAFkBAAAHAQAABwEAAPcAAAAGAQAA9wAAAOkAAADqAAAA+QAAAN0AAADeAAAA+gAAAPoAAADdAAAA3AAAACUBAAAlAQAAIwEAACMBAAAJAQAACQEAAAcBAAAHAQAAYgEAAG8BAABvAQAAfQEAAF8BAABeAQAAQgEAAEIBAAAYAQAAGAEAACYBAAA1AQAAGgEAABoBAAA2AQAANgEAAP8AAAD/AAAA/gAAAO8AAADjAAAA4wAAAO8AAADhAAAAgAEAAIABAABkAQAAZAEAAH8BAAB+AQAAYgEAAGIBAABhAQAAYQEAAEUBAABFAQAAXwEAAF8BAABEAQAAQwEAAAMAAAADAAAAAwAAAMYAAAC9AAAAvQAAAL0AAACCAQAADAAAAAwAAAAMAAAAzwAAAAoAAAAKAAAACgAAAM8AAAAqAAAAKgAAACoAAADgAAAAAwAAAAMAAAADAAAAyAAAAAUAAAAFAAAABQAAAMgAAADBAAAAwQAAAMEAAACGAQAAwQAAAMEAAADBAAAAhAEAAH0AAAB9AAAAfQAAADMBAAC8AAAAvAAAALwAAACBAQAAuAAAALgAAAC4AAAAfQEAAAYAAAAGAAAABgAAAMkAAAAGAAAABgAAAAYAAADLAAAAAAAAAAAAAAAAAAAAxQAAAAAAAAAAAAAAAAAAANIAAAABAAAAAQAAAAEAAADGAAAADgAAAA4AAAAOAAAA4AAAAMMAAADDAAAAwwAAAHkBAADDAAAAwwAAAMMAAACGAQAAtQAAALUAAAC1AAAAawEAAL8AAAC/AAAAvwAAAIIBAAC/AAAAvwAAAL8AAACEAQAAmQAAAJkAAACZAAAAawEAAGEAAABhAAAAYQAAADMBAACaAAAAmgAAAJoAAABsAQAAVAAAAFQAAABUAAAACgEAAA0AAAANAAAADQAAANAAAAANAAAADQAAAA0AAADfAAAANwAAADcAAAA3AAAA7QAAACkAAAApAAAAKQAAAN8AAAAKAAAACgAAAAoAAADNAAAACAAAAAgAAAAIAAAAywAAAAgAAAAIAAAACAAAAM0AAAAqAAAAKgAAACoAAAD8AAAAOAAAADgAAAA4AAAACgEAAH0AAAB9AAAAfQAAAE8BAACZAAAAmQAAAJkAAABPAQAANwAAADcAAAA3AAAACQEAALYAAAC2AAAAtgAAAHsBAAC2AAAAtgAAALYAAABsAQAAtwAAALcAAAC3AAAAfAEAAH4AAAB+AAAAfgAAADQBAABhAAAAYQAAAGEAAAAXAQAARQAAAEUAAABFAAAAFwEAALkAAAC5AAAAuQAAAH4BAACaAAAAmgAAAJoAAABQAQAAfgAAAH4AAAB+AAAAUAEAAFQAAABUAAAAVAAAACYBAABiAAAAYgAAAGIAAAA0AQAAvAAAALwAAAC8AAAAfwEAALsAAAC7AAAAuwAAAH4BAAA=",
          "dtype": "i4"
         },
         "k": {
          "bdata": "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",
          "dtype": "i4"
         },
         "lighting": {
          "ambient": 0.6,
          "diffuse": 0.5,
          "roughness": 1,
          "specular": 0.1
         },
         "lightposition": {
          "x": 100,
          "y": 200,
          "z": 0
         },
         "name": "id=601MF",
         "type": "mesh3d",
         "visible": false,
         "x": {
          "bdata": "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",
          "dtype": "f8"
         },
         "y": {
          "bdata": "AAAAAAAAAAAAAAAAAAAAAAAAAAAAAAAAAAAAAAAAAAAAAAAAAAAAAAAAAAAAAAAAAAAAAAAAAAAAAAAAAAAAAAAAAAAAAAAAAAAAAAAAAAAAAAAAAAAAAAAAAAAAAAAAAAAAAAAAAAAAAAAAAAAAAAAAAAAAAPA/AAAAAAAA8D8AAAAAAADwPwAAAAAAAPA/AAAAAAAA8D8AAAAAAADwPwAAAAAAAPA/AAAAAAAA8D8AAAAAAADwPwAAAAAAAPA/AAAAAAAA8D8AAAAAAADwPwAAAAAAAPA/AAAAAAAA8D8AAAAAAAAAQAAAAAAAAABAAAAAAAAAAEAAAAAAAAAAQAAAAAAAAABAAAAAAAAAAEAAAAAAAAAAQAAAAAAAAABAAAAAAAAAAEAAAAAAAAAAQAAAAAAAAABAAAAAAAAAAEAAAAAAAAAAQAAAAAAAAABAAAAAAAAACEAAAAAAAAAIQAAAAAAAAAhAAAAAAAAACEAAAAAAAAAIQAAAAAAAAAhAAAAAAAAACEAAAAAAAAAIQAAAAAAAAAhAAAAAAAAACEAAAAAAAAAIQAAAAAAAAAhAAAAAAAAACEAAAAAAAAAIQAAAAAAAABBAAAAAAAAAEEAAAAAAAAAQQAAAAAAAABBAAAAAAAAAEEAAAAAAAAAQQAAAAAAAABBAAAAAAAAAEEAAAAAAAAAQQAAAAAAAABBAAAAAAAAAEEAAAAAAAAAQQAAAAAAAABBAAAAAAAAAEEAAAAAAAAAUQAAAAAAAABRAAAAAAAAAFEAAAAAAAAAUQAAAAAAAABRAAAAAAAAAFEAAAAAAAAAUQAAAAAAAABRAAAAAAAAAFEAAAAAAAAAUQAAAAAAAABRAAAAAAAAAFEAAAAAAAAAUQAAAAAAAABRAAAAAAAAAGEAAAAAAAAAYQAAAAAAAABhAAAAAAAAAGEAAAAAAAAAYQAAAAAAAABhAAAAAAAAAGEAAAAAAAAAYQAAAAAAAABhAAAAAAAAAGEAAAAAAAAAYQAAAAAAAABhAAAAAAAAAGEAAAAAAAAAYQAAAAAAAABxAAAAAAAAAHEAAAAAAAAAcQAAAAAAAABxAAAAAAAAAHEAAAAAAAAAcQAAAAAAAABxAAAAAAAAAHEAAAAAAAAAcQAAAAAAAABxAAAAAAAAAHEAAAAAAAAAcQAAAAAAAABxAAAAAAAAAHEAAAAAAAAAgQAAAAAAAACBAAAAAAAAAIEAAAAAAAAAgQAAAAAAAACBAAAAAAAAAIEAAAAAAAAAgQAAAAAAAACBAAAAAAAAAIEAAAAAAAAAgQAAAAAAAACBAAAAAAAAAIEAAAAAAAAAgQAAAAAAAACBAAAAAAAAAIkAAAAAAAAAiQAAAAAAAACJAAAAAAAAAIkAAAAAAAAAiQAAAAAAAACJAAAAAAAAAIkAAAAAAAAAiQAAAAAAAACJAAAAAAAAAIkAAAAAAAAAiQAAAAAAAACJAAAAAAAAAIkAAAAAAAAAiQAAAAAAAACRAAAAAAAAAJEAAAAAAAAAkQAAAAAAAACRAAAAAAAAAJEAAAAAAAAAkQAAAAAAAACRAAAAAAAAAJEAAAAAAAAAkQAAAAAAAACRAAAAAAAAAJEAAAAAAAAAkQAAAAAAAACRAAAAAAAAAJEAAAAAAAAAmQAAAAAAAACZAAAAAAAAAJkAAAAAAAAAmQAAAAAAAACZAAAAAAAAAJkAAAAAAAAAmQAAAAAAAACZAAAAAAAAAJkAAAAAAAAAmQAAAAAAAACZAAAAAAAAAJkAAAAAAAAAmQAAAAAAAACZAAAAAAAAAKEAAAAAAAAAoQAAAAAAAAChAAAAAAAAAKEAAAAAAAAAoQAAAAAAAAChAAAAAAAAAKEAAAAAAAAAoQAAAAAAAAChAAAAAAAAAKEAAAAAAAAAoQAAAAAAAAChAAAAAAAAAKEAAAAAAAAAoQAAAAAAAACpAAAAAAAAAKkAAAAAAAAAqQAAAAAAAACpAAAAAAAAAKkAAAAAAAAAqQAAAAAAAACpAAAAAAAAAKkAAAAAAAAAqQAAAAAAAACpAAAAAAAAAKkAAAAAAAAAqQAAAAAAAACpAAAAAAAAAKkAAAAAAAAAAAAAAAAAAAAAAAAAAAAAAAAAAAAAAAAAAAAAAAAAAAAAAAAAAAAAAAAAAAAAAAAAAAAAAAAAAAAAAAAAAAAAAAAAAAAAAAAAAAAAAAAAAAAAAAAAAAAAAAAAAAAAAAAAAAAAAAAAAAAAAAAAAAAAA8D8AAAAAAADwPwAAAAAAAPA/AAAAAAAA8D8AAAAAAADwPwAAAAAAAPA/AAAAAAAA8D8AAAAAAADwPwAAAAAAAPA/AAAAAAAA8D8AAAAAAADwPwAAAAAAAPA/AAAAAAAA8D8AAAAAAADwPwAAAAAAAABAAAAAAAAAAEAAAAAAAAAAQAAAAAAAAABAAAAAAAAAAEAAAAAAAAAAQAAAAAAAAABAAAAAAAAAAEAAAAAAAAAAQAAAAAAAAABAAAAAAAAAAEAAAAAAAAAAQAAAAAAAAABAAAAAAAAAAEAAAAAAAAAIQAAAAAAAAAhAAAAAAAAACEAAAAAAAAAIQAAAAAAAAAhAAAAAAAAACEAAAAAAAAAIQAAAAAAAAAhAAAAAAAAACEAAAAAAAAAIQAAAAAAAAAhAAAAAAAAACEAAAAAAAAAIQAAAAAAAAAhAAAAAAAAAEEAAAAAAAAAQQAAAAAAAABBAAAAAAAAAEEAAAAAAAAAQQAAAAAAAABBAAAAAAAAAEEAAAAAAAAAQQAAAAAAAABBAAAAAAAAAEEAAAAAAAAAQQAAAAAAAABBAAAAAAAAAEEAAAAAAAAAQQAAAAAAAABRAAAAAAAAAFEAAAAAAAAAUQAAAAAAAABRAAAAAAAAAFEAAAAAAAAAUQAAAAAAAABRAAAAAAAAAFEAAAAAAAAAUQAAAAAAAABRAAAAAAAAAFEAAAAAAAAAUQAAAAAAAABRAAAAAAAAAFEAAAAAAAAAYQAAAAAAAABhAAAAAAAAAGEAAAAAAAAAYQAAAAAAAABhAAAAAAAAAGEAAAAAAAAAYQAAAAAAAABhAAAAAAAAAGEAAAAAAAAAYQAAAAAAAABhAAAAAAAAAGEAAAAAAAAAYQAAAAAAAABhAAAAAAAAAHEAAAAAAAAAcQAAAAAAAABxAAAAAAAAAHEAAAAAAAAAcQAAAAAAAABxAAAAAAAAAHEAAAAAAAAAcQAAAAAAAABxAAAAAAAAAHEAAAAAAAAAcQAAAAAAAABxAAAAAAAAAHEAAAAAAAAAcQAAAAAAAACBAAAAAAAAAIEAAAAAAAAAgQAAAAAAAACBAAAAAAAAAIEAAAAAAAAAgQAAAAAAAACBAAAAAAAAAIEAAAAAAAAAgQAAAAAAAACBAAAAAAAAAIEAAAAAAAAAgQAAAAAAAACBAAAAAAAAAIEAAAAAAAAAiQAAAAAAAACJAAAAAAAAAIkAAAAAAAAAiQAAAAAAAACJAAAAAAAAAIkAAAAAAAAAiQAAAAAAAACJAAAAAAAAAIkAAAAAAAAAiQAAAAAAAACJAAAAAAAAAIkAAAAAAAAAiQAAAAAAAACJAAAAAAAAAJEAAAAAAAAAkQAAAAAAAACRAAAAAAAAAJEAAAAAAAAAkQAAAAAAAACRAAAAAAAAAJEAAAAAAAAAkQAAAAAAAACRAAAAAAAAAJEAAAAAAAAAkQAAAAAAAACRAAAAAAAAAJEAAAAAAAAAkQAAAAAAAACZAAAAAAAAAJkAAAAAAAAAmQAAAAAAAACZAAAAAAAAAJkAAAAAAAAAmQAAAAAAAACZAAAAAAAAAJkAAAAAAAAAmQAAAAAAAACZAAAAAAAAAJkAAAAAAAAAmQAAAAAAAACZAAAAAAAAAJkAAAAAAAAAoQAAAAAAAAChAAAAAAAAAKEAAAAAAAAAoQAAAAAAAAChAAAAAAAAAKEAAAAAAAAAoQAAAAAAAAChAAAAAAAAAKEAAAAAAAAAoQAAAAAAAAChAAAAAAAAAKEAAAAAAAAAoQAAAAAAAAChAAAAAAAAAKkAAAAAAAAAqQAAAAAAAACpAAAAAAAAAKkAAAAAAAAAqQAAAAAAAACpAAAAAAAAAKkAAAAAAAAAqQAAAAAAAACpAAAAAAAAAKkAAAAAAAAAqQAAAAAAAACpAAAAAAAAAKkAAAAAAAAAqQA==",
          "dtype": "f8"
         },
         "z": {
          "bdata": "wAdt/GjADEAgY7OgaacXQIAVzfYrUyJAAP2eTPfqGkAAgmiLsJ8hQAASnExP6B5AADWC9XmlH0AQmJOUVs8ZQBC3p6MdChJAABBV1Fd+C0AAgBq6u4alPwCg4bP7X8w/ADJMS0bDC8AAoCJHrM/KPwDjBz1V/BhAgHk7H4jyIECAqNLHQGMnQAChACgpLiJAAAAn0wVJJkCAm+LcAt0jQIgdRP/gnSNAAGmRqjf4HkAAlKhsPT4XQADwRyUtfhJAANQiRR/+8D8AQIIoy170PwBawQwgxALAAAAAAAAA+H+Ar9VYOPojQIDCXaxcOChAAE7cduZpLkCAhdFXQOooQABtLIU9pSxA+Lf8uIcIKkAA0VKAoJwpQABzuhF5eiVAgNYzE7Z5IUAAFPua4kgeQABjA4TbCBBAAD7Jn9ZQEEAAAAAAAAD4fwAAAAAAAPh/APFCknCQG0CAkdczatYhQABjlsiM8idAgCLoWjH4IUCAUgciypQlQAiSCl9+ZiJAgKb3QQ7qIUAAO2YOBQ8bQADOuyaPgBNAANi2cfgjDEAA/hGnh2WdPwAAAAAAAPh/AAAAAAAA+H8AAAAAAAD4fwDBGHzEXSBAgKa2VYBBJECA+apHeAEqQACwb61K6yNAgFGd6sN1J0CAWnAFk+QjQIAC4wAIfiNAALHvQNUcHkAAwBaMSzkWQADq9OCEmxBAAAAAAAAA+H8AAAAAAAD4fwAAAAAAAPh/AAAAAAAA+H8AcIsYAwMWQAA5ZmvxkR1AABgXqas8JEAAJ7mDdgcbQAAJXjae3SBAABevmV5mGkAAA2LUeiwZQACucxi6PBBAAFYmYNohAEAAAAAAAAD4fwAAAAAAAPh/AAAAAAAA+H8AAAAAAAD4fwAAAAAAAPh/AJMqxczmFkAANerYTnQdQAAvxJVfDiRAALpPGcJFGkCAx1ghJ5IgQAASs9XplhlAALLOA5//F0AAbvHFWkENQAAAAAAAAPh/AAAAAAAA+H8AAAAAAAD4fwAAAAAAAPh/AAAAAAAA+H8AAAAAAAD4fxBe2JyjSBBAADTuqE5tFEAAeQQQtuceQABUEv+PsBBAAJdhvmNHF0AAopf4oPUOQAD8P/ymzwtAAAAAAAAA+H8AAAAAAAD4fwAAAAAAAPh/AAAAAAAA+H8AAAAAAAD4fwAAAAAAAPh/AAAAAAAA+H8gsO7fOEADQABAIBLnPQtAAD23FIfcF0AAtOeWWqYDQACGwEBbchBAAPYuaz5rAUAAAAAAAAD4fwAAAAAAAPh/AAAAAAAA+H8AAAAAAAD4fwAAAAAAAPh/AAAAAAAA+H8AAAAAAAD4fwAAAAAAAPh/AGjedZIfAEAA0Fx9aWAHQADVdWslDRZAAIywjL/n/j8ASInsuO8KQAAAAAAAAPh/AAAAAAAA+H8AAAAAAAD4fwAAAAAAAPh/AAAAAAAA+H8AAAAAAAD4fwAAAAAAAPh/AAAAAAAA+H8AAAAAAAD4fwDQ1AXpD+U/ANR6f4e+9z8AzQ2YiDEQQABwmOve+tY/AAAAAAAA+H8AAAAAAAD4fwAAAAAAAPh/AAAAAAAA+H8AAAAAAAD4fwAAAAAAAPh/AAAAAAAA+H8AAAAAAAD4fwAAAAAAAPh/AAAAAAAA+H8AmHGB9YT2PwDQpancNQJAAEtFDCpuEkAAAAAAAAD4fwAAAAAAAPh/AAAAAAAA+H8AAAAAAAD4fwAAAAAAAPh/AAAAAAAA+H8AAAAAAAD4fwAAAAAAAPh/AAAAAAAA+H8AAAAAAAD4fwAAAAAAAPh/APrriVDiB8AAcklZl7IAwAAAAAAAAPh/AAAAAAAA+H8AAAAAAAD4fwAAAAAAAPh/AAAAAAAA+H8AAAAAAAD4fwAAAAAAAPh/AAAAAAAA+H8AAAAAAAD4fwAAAAAAAPh/AAAAAAAA+H8AAAAAAAD4fwBgXS76W9c/AAAAAAAA+H8AAAAAAAD4fwAAAAAAAPh/AAAAAAAA+H8AAAAAAAD4fwAAAAAAAPh/AAAAAAAA+H8AAAAAAAD4fwAAAAAAAPh/AAAAAAAA+H8AAAAAAAD4fwAAAAAAAPh/AAAAAAAA+H8AAAAAAAAAAAAAAAAAAAAAAAAAAAAAAAAAAAAAAAAAAAAAAAAAAAAAAAAAAAAAAAAAAAAAAAAAAAAAAAAAAAAAAAAAAAAAAAAAAAAAAAAAAAAAAAAAAAAAAAAAAAAAAAAAAAAAAAAAAAAAAAAAAAAAAAAAAAAAAAAAAAAAAAAAAAAAAAAAAAAAAAAAAAAAAAAAAAAAAAAAAAAAAAAAAAAAAAAAAAAAAAAAAAAAAAAAAAAAAAAAAAAAAAAAAAAAAAAAAAAAAAAAAAAAAAAAAAAAAAAAAAAAAAAAAAAAAAAAAAAAAAAAAAAAAAAAAAAAAAAAAAAAAAAAAAAAAAAAAAAAAAAAAAAAAAAAAAAAAAAAAAAAAAAAAAAAAAAAAAAAAAAAAAAAAAAAAAAAAAAAAAAAAAAAAAAAAAAAAAAAAAAAAAAAAAAAAAAAAAAAAAAAAAAAAAAAAAAAAAAAAAAAAAAAAAAAAAAAAAAAAAAAAAAAAAAAAAAAAAAAAAAAAAAAAAAAAAAAAAAAAAAAAAAAAAAAAAAAAAAAAAAAAAAAAAAAAAAAAAAAAAAAAAAAAAAAAAAAAAAAAAAAAAAAAAAAAAAAAAAAAAAAAAAAAAAAAAAAAAAAAAAAAAAAAAAAAAAAAAAAAAAAAAAAAAAAAAAAAAAAAAAAAAAAAAAAAAAAAAAAAAAAAAAAAAAAAAAAAAAAAAAAAAAAAAAAAAAAAAAAAAAAAAAAAAAAAAAAAAAAAAAAAAAAAAAAAAAAAAAAAAAAAAAAAAAAAAAAAAAAAAAAAAAAAAAAAAAAAAAAAAAAAAAAAAAAAAAAAAAAAAAAAAAAAAAAAAAAAAAAAAAAAAAAAAAAAAAAAAAAAAAAAAAAAAAAAAAAAAAAAAAAAAAAAAAAAAAAAAAAAAAAAAAAAAAAAAAAAAAAAAAAAAAAAAAAAAAAAAAAAAAAAAAAAAAAAAAAAAAAAAAAAAAAAAAAAAAAAAAAAAAAAAAAAAAAAAAAAAAAAAAAAAAAAAAAAAAAAAAAAAAAAAAAAAAAAAAAAAAAAAAAAAAAAAAAAAAAAAAAAAAAAAAAAAAAAAAAAAAAAAAAAAAAAAAAAAAAAAAAAAAAAAAAAAAAAAAAAAAAAAAAAAAAAAAAAAAAAAAAAAAAAAAAAAAAAAAAAAAAAAAAAAAAAAAAAAAAAAAAAAAAAAAAAAAAAAAAAAAAAAAAAAAAAAAAAAAAAAAAAAAAAAAAAAAAAAAAAAAAAAAAAAAAAAAAAAAAAAAAAAAAAAAAAAAAAAAAAAAAAAAAAAAAAAAAAAAAAAAAAAAAAAAAAAAAAAAAAAAAAAAAAAAAAAAAAAAAAAAAAAAAAAAAAAAAAAAAAAAAAAAAAAAAAAAAAAAAAAAAAAAAAAAAAAAAAAAAAAAAAAAAAAAAAAAAAAAAAAAAAAAAAAAAAAAAAAAAAAAAAAAAAAAAAAAAAAAAAAAAAAAAAAAAAAAAAAAAAAAAAAAAAAAAAAAAAAAAAAAAAAAAAAAAAAAAAAAAAAAAAAAAAAAAAAAAAAAAAAAAAAAAAAAAAAAAAAAAAAAAAAAAAAAAAAAAAAAAAAAAAAAAAAAAAAAAAAAAAAAAAAAAAAAAAAAAAAAAAAAAAAAAAAAAAAAAAAAAAAAAAAAAAAAAAAAAAAAAAAAAAAAAAAAAAAAAAAAAAAAAAAAAAAAAAAAAAAAAAAAAAAAAAAAAAAAAAAAAAAAAAAAAAAAAAAAAAAAAAAAAAAAAAAAAAAAAAAAAAAAAAAAAAAAAAAAAAAAAAAAAAAAAAAAAAAAAAAAAAAAAAAAAAAAAAAAAAAAAAAAAAAAAAAAAAAAAAAAAAAAAAAAAAAAAAAAAAAAAAAAAAAAAAAAAAAAAAAAAAAAAAAAAAAAAAAAAAAAAAAAAAAAAAAAAAAAAAAAAAAAAAAAAAAAAAAAAAAAAAAAAAAAAAAAAAAAAAAAAAAAAAAAAAAAAAAAAAAAAAAAAAAAAAAAAAAAAAAAAAAAAAAAAAAAAAAAAAAAAAAAAAAAAAAAAAAAAAAAAAAAAAAAAAAAAAAAAAAAAAAAAAAAAAAAAAAAAAAAAAAAAAAAAAAAAAA==",
          "dtype": "f8"
         }
        },
        {
         "contours": {
          "x": {
           "color": "black",
           "end": 13,
           "show": true,
           "size": 1,
           "start": 0,
           "width": 2
          },
          "y": {
           "color": "black",
           "end": 13,
           "show": true,
           "size": 1,
           "start": 0,
           "width": 2
          },
          "z": {
           "highlightcolor": "white",
           "project": {
            "z": true
           },
           "show": false,
           "usecolormap": true
          }
         },
         "name": "id=601MF-grid",
         "opacity": 0,
         "showscale": false,
         "type": "surface",
         "visible": false,
         "x": {
          "bdata": "AAECAwQFBgcICQoLDA0AAQIDBAUGBwgJCgsMDQABAgMEBQYHCAkKCwwNAAECAwQFBgcICQoLDA0AAQIDBAUGBwgJCgsMDQABAgMEBQYHCAkKCwwNAAECAwQFBgcICQoLDA0AAQIDBAUGBwgJCgsMDQABAgMEBQYHCAkKCwwNAAECAwQFBgcICQoLDA0AAQIDBAUGBwgJCgsMDQABAgMEBQYHCAkKCwwNAAECAwQFBgcICQoLDA0AAQIDBAUGBwgJCgsMDQ==",
          "dtype": "i1",
          "shape": "14, 14"
         },
         "y": {
          "bdata": "AAAAAAAAAAAAAAAAAAABAQEBAQEBAQEBAQEBAQICAgICAgICAgICAgICAwMDAwMDAwMDAwMDAwMEBAQEBAQEBAQEBAQEBAUFBQUFBQUFBQUFBQUFBgYGBgYGBgYGBgYGBgYHBwcHBwcHBwcHBwcHBwgICAgICAgICAgICAgICQkJCQkJCQkJCQkJCQkKCgoKCgoKCgoKCgoKCgsLCwsLCwsLCwsLCwsLDAwMDAwMDAwMDAwMDAwNDQ0NDQ0NDQ0NDQ0NDQ==",
          "dtype": "i1",
          "shape": "14, 14"
         },
         "z": {
          "bdata": "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",
          "dtype": "f8",
          "shape": "14, 14"
         }
        },
        {
         "colorscale": [
          [
           0,
           "#f0f921"
          ],
          [
           0.1111111111111111,
           "#fdca26"
          ],
          [
           0.2222222222222222,
           "#fb9f3a"
          ],
          [
           0.3333333333333333,
           "#ed7953"
          ],
          [
           0.4444444444444444,
           "#d8576b"
          ],
          [
           0.5555555555555556,
           "#bd3786"
          ],
          [
           0.6666666666666666,
           "#9c179e"
          ],
          [
           0.7777777777777778,
           "#7201a8"
          ],
          [
           0.8888888888888888,
           "#46039f"
          ],
          [
           1,
           "#0d0887"
          ]
         ],
         "flatshading": true,
         "i": {
          "bdata": "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",
          "dtype": "i4"
         },
         "intensity": {
          "bdata": "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",
          "dtype": "f8"
         },
         "j": {
          "bdata": "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",
          "dtype": "i4"
         },
         "k": {
          "bdata": "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",
          "dtype": "i4"
         },
         "lighting": {
          "ambient": 0.6,
          "diffuse": 0.5,
          "roughness": 1,
          "specular": 0.1
         },
         "lightposition": {
          "x": 100,
          "y": 200,
          "z": 0
         },
         "name": "id=601RTA",
         "type": "mesh3d",
         "visible": false,
         "x": {
          "bdata": "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",
          "dtype": "f8"
         },
         "y": {
          "bdata": "AAAAAAAAAAAAAAAAAAAAAAAAAAAAAAAAAAAAAAAAAAAAAAAAAAAAAAAAAAAAAAAAAAAAAAAAAAAAAAAAAAAAAAAAAAAAAAAAAAAAAAAAAAAAAAAAAAAAAAAAAAAAAAAAAAAAAAAAAAAAAAAAAAAAAAAAAAAAAPA/AAAAAAAA8D8AAAAAAADwPwAAAAAAAPA/AAAAAAAA8D8AAAAAAADwPwAAAAAAAPA/AAAAAAAA8D8AAAAAAADwPwAAAAAAAPA/AAAAAAAA8D8AAAAAAADwPwAAAAAAAPA/AAAAAAAA8D8AAAAAAAAAQAAAAAAAAABAAAAAAAAAAEAAAAAAAAAAQAAAAAAAAABAAAAAAAAAAEAAAAAAAAAAQAAAAAAAAABAAAAAAAAAAEAAAAAAAAAAQAAAAAAAAABAAAAAAAAAAEAAAAAAAAAAQAAAAAAAAABAAAAAAAAACEAAAAAAAAAIQAAAAAAAAAhAAAAAAAAACEAAAAAAAAAIQAAAAAAAAAhAAAAAAAAACEAAAAAAAAAIQAAAAAAAAAhAAAAAAAAACEAAAAAAAAAIQAAAAAAAAAhAAAAAAAAACEAAAAAAAAAIQAAAAAAAABBAAAAAAAAAEEAAAAAAAAAQQAAAAAAAABBAAAAAAAAAEEAAAAAAAAAQQAAAAAAAABBAAAAAAAAAEEAAAAAAAAAQQAAAAAAAABBAAAAAAAAAEEAAAAAAAAAQQAAAAAAAABBAAAAAAAAAEEAAAAAAAAAUQAAAAAAAABRAAAAAAAAAFEAAAAAAAAAUQAAAAAAAABRAAAAAAAAAFEAAAAAAAAAUQAAAAAAAABRAAAAAAAAAFEAAAAAAAAAUQAAAAAAAABRAAAAAAAAAFEAAAAAAAAAUQAAAAAAAABRAAAAAAAAAGEAAAAAAAAAYQAAAAAAAABhAAAAAAAAAGEAAAAAAAAAYQAAAAAAAABhAAAAAAAAAGEAAAAAAAAAYQAAAAAAAABhAAAAAAAAAGEAAAAAAAAAYQAAAAAAAABhAAAAAAAAAGEAAAAAAAAAYQAAAAAAAABxAAAAAAAAAHEAAAAAAAAAcQAAAAAAAABxAAAAAAAAAHEAAAAAAAAAcQAAAAAAAABxAAAAAAAAAHEAAAAAAAAAcQAAAAAAAABxAAAAAAAAAHEAAAAAAAAAcQAAAAAAAABxAAAAAAAAAHEAAAAAAAAAgQAAAAAAAACBAAAAAAAAAIEAAAAAAAAAgQAAAAAAAACBAAAAAAAAAIEAAAAAAAAAgQAAAAAAAACBAAAAAAAAAIEAAAAAAAAAgQAAAAAAAACBAAAAAAAAAIEAAAAAAAAAgQAAAAAAAACBAAAAAAAAAIkAAAAAAAAAiQAAAAAAAACJAAAAAAAAAIkAAAAAAAAAiQAAAAAAAACJAAAAAAAAAIkAAAAAAAAAiQAAAAAAAACJAAAAAAAAAIkAAAAAAAAAiQAAAAAAAACJAAAAAAAAAIkAAAAAAAAAiQAAAAAAAACRAAAAAAAAAJEAAAAAAAAAkQAAAAAAAACRAAAAAAAAAJEAAAAAAAAAkQAAAAAAAACRAAAAAAAAAJEAAAAAAAAAkQAAAAAAAACRAAAAAAAAAJEAAAAAAAAAkQAAAAAAAACRAAAAAAAAAJEAAAAAAAAAmQAAAAAAAACZAAAAAAAAAJkAAAAAAAAAmQAAAAAAAACZAAAAAAAAAJkAAAAAAAAAmQAAAAAAAACZAAAAAAAAAJkAAAAAAAAAmQAAAAAAAACZAAAAAAAAAJkAAAAAAAAAmQAAAAAAAACZAAAAAAAAAKEAAAAAAAAAoQAAAAAAAAChAAAAAAAAAKEAAAAAAAAAoQAAAAAAAAChAAAAAAAAAKEAAAAAAAAAoQAAAAAAAAChAAAAAAAAAKEAAAAAAAAAoQAAAAAAAAChAAAAAAAAAKEAAAAAAAAAoQAAAAAAAACpAAAAAAAAAKkAAAAAAAAAqQAAAAAAAACpAAAAAAAAAKkAAAAAAAAAqQAAAAAAAACpAAAAAAAAAKkAAAAAAAAAqQAAAAAAAACpAAAAAAAAAKkAAAAAAAAAqQAAAAAAAACpAAAAAAAAAKkAAAAAAAAAAAAAAAAAAAAAAAAAAAAAAAAAAAAAAAAAAAAAAAAAAAAAAAAAAAAAAAAAAAAAAAAAAAAAAAAAAAAAAAAAAAAAAAAAAAAAAAAAAAAAAAAAAAAAAAAAAAAAAAAAAAAAAAAAAAAAAAAAAAAAAAAAAAAAA8D8AAAAAAADwPwAAAAAAAPA/AAAAAAAA8D8AAAAAAADwPwAAAAAAAPA/AAAAAAAA8D8AAAAAAADwPwAAAAAAAPA/AAAAAAAA8D8AAAAAAADwPwAAAAAAAPA/AAAAAAAA8D8AAAAAAADwPwAAAAAAAABAAAAAAAAAAEAAAAAAAAAAQAAAAAAAAABAAAAAAAAAAEAAAAAAAAAAQAAAAAAAAABAAAAAAAAAAEAAAAAAAAAAQAAAAAAAAABAAAAAAAAAAEAAAAAAAAAAQAAAAAAAAABAAAAAAAAAAEAAAAAAAAAIQAAAAAAAAAhAAAAAAAAACEAAAAAAAAAIQAAAAAAAAAhAAAAAAAAACEAAAAAAAAAIQAAAAAAAAAhAAAAAAAAACEAAAAAAAAAIQAAAAAAAAAhAAAAAAAAACEAAAAAAAAAIQAAAAAAAAAhAAAAAAAAAEEAAAAAAAAAQQAAAAAAAABBAAAAAAAAAEEAAAAAAAAAQQAAAAAAAABBAAAAAAAAAEEAAAAAAAAAQQAAAAAAAABBAAAAAAAAAEEAAAAAAAAAQQAAAAAAAABBAAAAAAAAAEEAAAAAAAAAQQAAAAAAAABRAAAAAAAAAFEAAAAAAAAAUQAAAAAAAABRAAAAAAAAAFEAAAAAAAAAUQAAAAAAAABRAAAAAAAAAFEAAAAAAAAAUQAAAAAAAABRAAAAAAAAAFEAAAAAAAAAUQAAAAAAAABRAAAAAAAAAFEAAAAAAAAAYQAAAAAAAABhAAAAAAAAAGEAAAAAAAAAYQAAAAAAAABhAAAAAAAAAGEAAAAAAAAAYQAAAAAAAABhAAAAAAAAAGEAAAAAAAAAYQAAAAAAAABhAAAAAAAAAGEAAAAAAAAAYQAAAAAAAABhAAAAAAAAAHEAAAAAAAAAcQAAAAAAAABxAAAAAAAAAHEAAAAAAAAAcQAAAAAAAABxAAAAAAAAAHEAAAAAAAAAcQAAAAAAAABxAAAAAAAAAHEAAAAAAAAAcQAAAAAAAABxAAAAAAAAAHEAAAAAAAAAcQAAAAAAAACBAAAAAAAAAIEAAAAAAAAAgQAAAAAAAACBAAAAAAAAAIEAAAAAAAAAgQAAAAAAAACBAAAAAAAAAIEAAAAAAAAAgQAAAAAAAACBAAAAAAAAAIEAAAAAAAAAgQAAAAAAAACBAAAAAAAAAIEAAAAAAAAAiQAAAAAAAACJAAAAAAAAAIkAAAAAAAAAiQAAAAAAAACJAAAAAAAAAIkAAAAAAAAAiQAAAAAAAACJAAAAAAAAAIkAAAAAAAAAiQAAAAAAAACJAAAAAAAAAIkAAAAAAAAAiQAAAAAAAACJAAAAAAAAAJEAAAAAAAAAkQAAAAAAAACRAAAAAAAAAJEAAAAAAAAAkQAAAAAAAACRAAAAAAAAAJEAAAAAAAAAkQAAAAAAAACRAAAAAAAAAJEAAAAAAAAAkQAAAAAAAACRAAAAAAAAAJEAAAAAAAAAkQAAAAAAAACZAAAAAAAAAJkAAAAAAAAAmQAAAAAAAACZAAAAAAAAAJkAAAAAAAAAmQAAAAAAAACZAAAAAAAAAJkAAAAAAAAAmQAAAAAAAACZAAAAAAAAAJkAAAAAAAAAmQAAAAAAAACZAAAAAAAAAJkAAAAAAAAAoQAAAAAAAAChAAAAAAAAAKEAAAAAAAAAoQAAAAAAAAChAAAAAAAAAKEAAAAAAAAAoQAAAAAAAAChAAAAAAAAAKEAAAAAAAAAoQAAAAAAAAChAAAAAAAAAKEAAAAAAAAAoQAAAAAAAAChAAAAAAAAAKkAAAAAAAAAqQAAAAAAAACpAAAAAAAAAKkAAAAAAAAAqQAAAAAAAACpAAAAAAAAAKkAAAAAAAAAqQAAAAAAAACpAAAAAAAAAKkAAAAAAAAAqQAAAAAAAACpAAAAAAAAAKkAAAAAAAAAqQA==",
          "dtype": "f8"
         },
         "z": {
          "bdata": "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",
          "dtype": "f8"
         }
        },
        {
         "contours": {
          "x": {
           "color": "black",
           "end": 13,
           "show": true,
           "size": 1,
           "start": 0,
           "width": 2
          },
          "y": {
           "color": "black",
           "end": 13,
           "show": true,
           "size": 1,
           "start": 0,
           "width": 2
          },
          "z": {
           "highlightcolor": "white",
           "project": {
            "z": true
           },
           "show": false,
           "usecolormap": true
          }
         },
         "name": "id=601RTA-grid",
         "opacity": 0,
         "showscale": false,
         "type": "surface",
         "visible": false,
         "x": {
          "bdata": "AAECAwQFBgcICQoLDA0AAQIDBAUGBwgJCgsMDQABAgMEBQYHCAkKCwwNAAECAwQFBgcICQoLDA0AAQIDBAUGBwgJCgsMDQABAgMEBQYHCAkKCwwNAAECAwQFBgcICQoLDA0AAQIDBAUGBwgJCgsMDQABAgMEBQYHCAkKCwwNAAECAwQFBgcICQoLDA0AAQIDBAUGBwgJCgsMDQABAgMEBQYHCAkKCwwNAAECAwQFBgcICQoLDA0AAQIDBAUGBwgJCgsMDQ==",
          "dtype": "i1",
          "shape": "14, 14"
         },
         "y": {
          "bdata": "AAAAAAAAAAAAAAAAAAABAQEBAQEBAQEBAQEBAQICAgICAgICAgICAgICAwMDAwMDAwMDAwMDAwMEBAQEBAQEBAQEBAQEBAUFBQUFBQUFBQUFBQUFBgYGBgYGBgYGBgYGBgYHBwcHBwcHBwcHBwcHBwgICAgICAgICAgICAgICQkJCQkJCQkJCQkJCQkKCgoKCgoKCgoKCgoKCgsLCwsLCwsLCwsLCwsLDAwMDAwMDAwMDAwMDAwNDQ0NDQ0NDQ0NDQ0NDQ==",
          "dtype": "i1",
          "shape": "14, 14"
         },
         "z": {
          "bdata": "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",
          "dtype": "f8",
          "shape": "14, 14"
         }
        }
       ],
       "layout": {
        "height": 600,
        "margin": {
         "b": 0,
         "l": 0,
         "r": 0,
         "t": 50
        },
        "scene": {
         "xaxis": {
          "title": {
           "text": "Left Opening"
          }
         },
         "yaxis": {
          "title": {
           "text": "Right Opening"
          }
         },
         "zaxis": {
          "title": {
           "text": "ΔF (kT)"
          }
         }
        },
        "showlegend": false,
        "sliders": [
         {
          "active": 0,
          "pad": {
           "t": 50
          },
          "steps": [
           {
            "args": [
             {
              "visible": [
               true,
               true,
               false,
               false,
               false,
               false,
               false,
               false,
               false,
               false
              ]
             }
            ],
            "label": "5S",
            "method": "update"
           },
           {
            "args": [
             {
              "visible": [
               false,
               false,
               true,
               true,
               false,
               false,
               false,
               false,
               false,
               false
              ]
             }
            ],
            "label": "601",
            "method": "update"
           },
           {
            "args": [
             {
              "visible": [
               false,
               false,
               false,
               false,
               true,
               true,
               false,
               false,
               false,
               false
              ]
             }
            ],
            "label": "601L",
            "method": "update"
           },
           {
            "args": [
             {
              "visible": [
               false,
               false,
               false,
               false,
               false,
               false,
               true,
               true,
               false,
               false
              ]
             }
            ],
            "label": "601MF",
            "method": "update"
           },
           {
            "args": [
             {
              "visible": [
               false,
               false,
               false,
               false,
               false,
               false,
               false,
               false,
               true,
               true
              ]
             }
            ],
            "label": "601RTA",
            "method": "update"
           }
          ]
         }
        ],
        "template": {
         "data": {
          "bar": [
           {
            "error_x": {
             "color": "#2a3f5f"
            },
            "error_y": {
             "color": "#2a3f5f"
            },
            "marker": {
             "line": {
              "color": "#E5ECF6",
              "width": 0.5
             },
             "pattern": {
              "fillmode": "overlay",
              "size": 10,
              "solidity": 0.2
             }
            },
            "type": "bar"
           }
          ],
          "barpolar": [
           {
            "marker": {
             "line": {
              "color": "#E5ECF6",
              "width": 0.5
             },
             "pattern": {
              "fillmode": "overlay",
              "size": 10,
              "solidity": 0.2
             }
            },
            "type": "barpolar"
           }
          ],
          "carpet": [
           {
            "aaxis": {
             "endlinecolor": "#2a3f5f",
             "gridcolor": "white",
             "linecolor": "white",
             "minorgridcolor": "white",
             "startlinecolor": "#2a3f5f"
            },
            "baxis": {
             "endlinecolor": "#2a3f5f",
             "gridcolor": "white",
             "linecolor": "white",
             "minorgridcolor": "white",
             "startlinecolor": "#2a3f5f"
            },
            "type": "carpet"
           }
          ],
          "choropleth": [
           {
            "colorbar": {
             "outlinewidth": 0,
             "ticks": ""
            },
            "type": "choropleth"
           }
          ],
          "contour": [
           {
            "colorbar": {
             "outlinewidth": 0,
             "ticks": ""
            },
            "colorscale": [
             [
              0,
              "#0d0887"
             ],
             [
              0.1111111111111111,
              "#46039f"
             ],
             [
              0.2222222222222222,
              "#7201a8"
             ],
             [
              0.3333333333333333,
              "#9c179e"
             ],
             [
              0.4444444444444444,
              "#bd3786"
             ],
             [
              0.5555555555555556,
              "#d8576b"
             ],
             [
              0.6666666666666666,
              "#ed7953"
             ],
             [
              0.7777777777777778,
              "#fb9f3a"
             ],
             [
              0.8888888888888888,
              "#fdca26"
             ],
             [
              1,
              "#f0f921"
             ]
            ],
            "type": "contour"
           }
          ],
          "contourcarpet": [
           {
            "colorbar": {
             "outlinewidth": 0,
             "ticks": ""
            },
            "type": "contourcarpet"
           }
          ],
          "heatmap": [
           {
            "colorbar": {
             "outlinewidth": 0,
             "ticks": ""
            },
            "colorscale": [
             [
              0,
              "#0d0887"
             ],
             [
              0.1111111111111111,
              "#46039f"
             ],
             [
              0.2222222222222222,
              "#7201a8"
             ],
             [
              0.3333333333333333,
              "#9c179e"
             ],
             [
              0.4444444444444444,
              "#bd3786"
             ],
             [
              0.5555555555555556,
              "#d8576b"
             ],
             [
              0.6666666666666666,
              "#ed7953"
             ],
             [
              0.7777777777777778,
              "#fb9f3a"
             ],
             [
              0.8888888888888888,
              "#fdca26"
             ],
             [
              1,
              "#f0f921"
             ]
            ],
            "type": "heatmap"
           }
          ],
          "histogram": [
           {
            "marker": {
             "pattern": {
              "fillmode": "overlay",
              "size": 10,
              "solidity": 0.2
             }
            },
            "type": "histogram"
           }
          ],
          "histogram2d": [
           {
            "colorbar": {
             "outlinewidth": 0,
             "ticks": ""
            },
            "colorscale": [
             [
              0,
              "#0d0887"
             ],
             [
              0.1111111111111111,
              "#46039f"
             ],
             [
              0.2222222222222222,
              "#7201a8"
             ],
             [
              0.3333333333333333,
              "#9c179e"
             ],
             [
              0.4444444444444444,
              "#bd3786"
             ],
             [
              0.5555555555555556,
              "#d8576b"
             ],
             [
              0.6666666666666666,
              "#ed7953"
             ],
             [
              0.7777777777777778,
              "#fb9f3a"
             ],
             [
              0.8888888888888888,
              "#fdca26"
             ],
             [
              1,
              "#f0f921"
             ]
            ],
            "type": "histogram2d"
           }
          ],
          "histogram2dcontour": [
           {
            "colorbar": {
             "outlinewidth": 0,
             "ticks": ""
            },
            "colorscale": [
             [
              0,
              "#0d0887"
             ],
             [
              0.1111111111111111,
              "#46039f"
             ],
             [
              0.2222222222222222,
              "#7201a8"
             ],
             [
              0.3333333333333333,
              "#9c179e"
             ],
             [
              0.4444444444444444,
              "#bd3786"
             ],
             [
              0.5555555555555556,
              "#d8576b"
             ],
             [
              0.6666666666666666,
              "#ed7953"
             ],
             [
              0.7777777777777778,
              "#fb9f3a"
             ],
             [
              0.8888888888888888,
              "#fdca26"
             ],
             [
              1,
              "#f0f921"
             ]
            ],
            "type": "histogram2dcontour"
           }
          ],
          "mesh3d": [
           {
            "colorbar": {
             "outlinewidth": 0,
             "ticks": ""
            },
            "type": "mesh3d"
           }
          ],
          "parcoords": [
           {
            "line": {
             "colorbar": {
              "outlinewidth": 0,
              "ticks": ""
             }
            },
            "type": "parcoords"
           }
          ],
          "pie": [
           {
            "automargin": true,
            "type": "pie"
           }
          ],
          "scatter": [
           {
            "fillpattern": {
             "fillmode": "overlay",
             "size": 10,
             "solidity": 0.2
            },
            "type": "scatter"
           }
          ],
          "scatter3d": [
           {
            "line": {
             "colorbar": {
              "outlinewidth": 0,
              "ticks": ""
             }
            },
            "marker": {
             "colorbar": {
              "outlinewidth": 0,
              "ticks": ""
             }
            },
            "type": "scatter3d"
           }
          ],
          "scattercarpet": [
           {
            "marker": {
             "colorbar": {
              "outlinewidth": 0,
              "ticks": ""
             }
            },
            "type": "scattercarpet"
           }
          ],
          "scattergeo": [
           {
            "marker": {
             "colorbar": {
              "outlinewidth": 0,
              "ticks": ""
             }
            },
            "type": "scattergeo"
           }
          ],
          "scattergl": [
           {
            "marker": {
             "colorbar": {
              "outlinewidth": 0,
              "ticks": ""
             }
            },
            "type": "scattergl"
           }
          ],
          "scattermap": [
           {
            "marker": {
             "colorbar": {
              "outlinewidth": 0,
              "ticks": ""
             }
            },
            "type": "scattermap"
           }
          ],
          "scattermapbox": [
           {
            "marker": {
             "colorbar": {
              "outlinewidth": 0,
              "ticks": ""
             }
            },
            "type": "scattermapbox"
           }
          ],
          "scatterpolar": [
           {
            "marker": {
             "colorbar": {
              "outlinewidth": 0,
              "ticks": ""
             }
            },
            "type": "scatterpolar"
           }
          ],
          "scatterpolargl": [
           {
            "marker": {
             "colorbar": {
              "outlinewidth": 0,
              "ticks": ""
             }
            },
            "type": "scatterpolargl"
           }
          ],
          "scatterternary": [
           {
            "marker": {
             "colorbar": {
              "outlinewidth": 0,
              "ticks": ""
             }
            },
            "type": "scatterternary"
           }
          ],
          "surface": [
           {
            "colorbar": {
             "outlinewidth": 0,
             "ticks": ""
            },
            "colorscale": [
             [
              0,
              "#0d0887"
             ],
             [
              0.1111111111111111,
              "#46039f"
             ],
             [
              0.2222222222222222,
              "#7201a8"
             ],
             [
              0.3333333333333333,
              "#9c179e"
             ],
             [
              0.4444444444444444,
              "#bd3786"
             ],
             [
              0.5555555555555556,
              "#d8576b"
             ],
             [
              0.6666666666666666,
              "#ed7953"
             ],
             [
              0.7777777777777778,
              "#fb9f3a"
             ],
             [
              0.8888888888888888,
              "#fdca26"
             ],
             [
              1,
              "#f0f921"
             ]
            ],
            "type": "surface"
           }
          ],
          "table": [
           {
            "cells": {
             "fill": {
              "color": "#EBF0F8"
             },
             "line": {
              "color": "white"
             }
            },
            "header": {
             "fill": {
              "color": "#C8D4E3"
             },
             "line": {
              "color": "white"
             }
            },
            "type": "table"
           }
          ]
         },
         "layout": {
          "annotationdefaults": {
           "arrowcolor": "#2a3f5f",
           "arrowhead": 0,
           "arrowwidth": 1
          },
          "autotypenumbers": "strict",
          "coloraxis": {
           "colorbar": {
            "outlinewidth": 0,
            "ticks": ""
           }
          },
          "colorscale": {
           "diverging": [
            [
             0,
             "#8e0152"
            ],
            [
             0.1,
             "#c51b7d"
            ],
            [
             0.2,
             "#de77ae"
            ],
            [
             0.3,
             "#f1b6da"
            ],
            [
             0.4,
             "#fde0ef"
            ],
            [
             0.5,
             "#f7f7f7"
            ],
            [
             0.6,
             "#e6f5d0"
            ],
            [
             0.7,
             "#b8e186"
            ],
            [
             0.8,
             "#7fbc41"
            ],
            [
             0.9,
             "#4d9221"
            ],
            [
             1,
             "#276419"
            ]
           ],
           "sequential": [
            [
             0,
             "#0d0887"
            ],
            [
             0.1111111111111111,
             "#46039f"
            ],
            [
             0.2222222222222222,
             "#7201a8"
            ],
            [
             0.3333333333333333,
             "#9c179e"
            ],
            [
             0.4444444444444444,
             "#bd3786"
            ],
            [
             0.5555555555555556,
             "#d8576b"
            ],
            [
             0.6666666666666666,
             "#ed7953"
            ],
            [
             0.7777777777777778,
             "#fb9f3a"
            ],
            [
             0.8888888888888888,
             "#fdca26"
            ],
            [
             1,
             "#f0f921"
            ]
           ],
           "sequentialminus": [
            [
             0,
             "#0d0887"
            ],
            [
             0.1111111111111111,
             "#46039f"
            ],
            [
             0.2222222222222222,
             "#7201a8"
            ],
            [
             0.3333333333333333,
             "#9c179e"
            ],
            [
             0.4444444444444444,
             "#bd3786"
            ],
            [
             0.5555555555555556,
             "#d8576b"
            ],
            [
             0.6666666666666666,
             "#ed7953"
            ],
            [
             0.7777777777777778,
             "#fb9f3a"
            ],
            [
             0.8888888888888888,
             "#fdca26"
            ],
            [
             1,
             "#f0f921"
            ]
           ]
          },
          "colorway": [
           "#636efa",
           "#EF553B",
           "#00cc96",
           "#ab63fa",
           "#FFA15A",
           "#19d3f3",
           "#FF6692",
           "#B6E880",
           "#FF97FF",
           "#FECB52"
          ],
          "font": {
           "color": "#2a3f5f"
          },
          "geo": {
           "bgcolor": "white",
           "lakecolor": "white",
           "landcolor": "#E5ECF6",
           "showlakes": true,
           "showland": true,
           "subunitcolor": "white"
          },
          "hoverlabel": {
           "align": "left"
          },
          "hovermode": "closest",
          "mapbox": {
           "style": "light"
          },
          "paper_bgcolor": "white",
          "plot_bgcolor": "#E5ECF6",
          "polar": {
           "angularaxis": {
            "gridcolor": "white",
            "linecolor": "white",
            "ticks": ""
           },
           "bgcolor": "#E5ECF6",
           "radialaxis": {
            "gridcolor": "white",
            "linecolor": "white",
            "ticks": ""
           }
          },
          "scene": {
           "xaxis": {
            "backgroundcolor": "#E5ECF6",
            "gridcolor": "white",
            "gridwidth": 2,
            "linecolor": "white",
            "showbackground": true,
            "ticks": "",
            "zerolinecolor": "white"
           },
           "yaxis": {
            "backgroundcolor": "#E5ECF6",
            "gridcolor": "white",
            "gridwidth": 2,
            "linecolor": "white",
            "showbackground": true,
            "ticks": "",
            "zerolinecolor": "white"
           },
           "zaxis": {
            "backgroundcolor": "#E5ECF6",
            "gridcolor": "white",
            "gridwidth": 2,
            "linecolor": "white",
            "showbackground": true,
            "ticks": "",
            "zerolinecolor": "white"
           }
          },
          "shapedefaults": {
           "line": {
            "color": "#2a3f5f"
           }
          },
          "ternary": {
           "aaxis": {
            "gridcolor": "white",
            "linecolor": "white",
            "ticks": ""
           },
           "baxis": {
            "gridcolor": "white",
            "linecolor": "white",
            "ticks": ""
           },
           "bgcolor": "#E5ECF6",
           "caxis": {
            "gridcolor": "white",
            "linecolor": "white",
            "ticks": ""
           }
          },
          "title": {
           "x": 0.05
          },
          "xaxis": {
           "automargin": true,
           "gridcolor": "white",
           "linecolor": "white",
           "ticks": "",
           "title": {
            "standoff": 15
           },
           "zerolinecolor": "white",
           "zerolinewidth": 2
          },
          "yaxis": {
           "automargin": true,
           "gridcolor": "white",
           "linecolor": "white",
           "ticks": "",
           "title": {
            "standoff": 15
           },
           "zerolinecolor": "white",
           "zerolinewidth": 2
          }
         }
        },
        "title": {
         "text": "Free‐Energy Landscapes"
        },
        "width": 800
       }
      }
     },
     "metadata": {},
     "output_type": "display_data"
    }
   ],
   "source": [
    "fig2 = plot_3d_filled_volume(\n",
    "    df_full,\n",
    "    x_col='left_open', y_col='right_open', z_col='dF_total',\n",
    "    x_label='Left Opening',\n",
    "    y_label='Right Opening',\n",
    "    z_label='ΔF (kT)',\n",
    "    width=800, height=600,\n",
    "    title='Free‐Energy Landscapes',\n",
    "    colorscale='Plasma_r'\n",
    ")\n",
    "fig2.show()\n"
   ]
  },
  {
   "cell_type": "code",
   "execution_count": null,
   "metadata": {},
   "outputs": [],
   "source": []
  },
  {
   "cell_type": "code",
   "execution_count": null,
   "metadata": {},
   "outputs": [],
   "source": []
  }
 ],
 "metadata": {
  "kernelspec": {
   "display_name": "nucleosome",
   "language": "python",
   "name": "python3"
  },
  "language_info": {
   "codemirror_mode": {
    "name": "ipython",
    "version": 3
   },
   "file_extension": ".py",
   "mimetype": "text/x-python",
   "name": "python",
   "nbconvert_exporter": "python",
   "pygments_lexer": "ipython3",
   "version": "3.12.8"
  }
 },
 "nbformat": 4,
 "nbformat_minor": 2
}
